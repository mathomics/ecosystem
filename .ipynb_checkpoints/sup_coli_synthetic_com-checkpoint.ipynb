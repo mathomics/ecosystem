{
 "cells": [
  {
   "cell_type": "code",
   "execution_count": 1,
   "metadata": {
    "ExecuteTime": {
     "end_time": "2023-05-03T19:43:35.286551Z",
     "start_time": "2023-05-03T19:43:28.899535Z"
    }
   },
   "outputs": [],
   "source": [
    "import cobra\n",
    "import numpy as np\n",
    "import pandas as pd\n",
    "from cobra.flux_analysis import flux_variability_analysis\n",
    "from cobra.util.solver import linear_reaction_coefficients\n",
    "\n",
    "from full_ecosystem import Ecosystem\n",
    "from eco_utils import *\n",
    "from cobra import Metabolite, Reaction, Model\n",
    "from cobra.util.array import create_stoichiometric_matrix\n",
    "from cobra.util.solver import linear_reaction_coefficients\n",
    "from cobra.flux_analysis import flux_variability_analysis\n"
   ]
  },
  {
   "cell_type": "markdown",
   "metadata": {},
   "source": [
    "# _E. coli_ model load"
   ]
  },
  {
   "cell_type": "code",
   "execution_count": 2,
   "metadata": {
    "ExecuteTime": {
     "end_time": "2023-05-03T19:43:56.736306Z",
     "start_time": "2023-05-03T19:43:49.751634Z"
    },
    "scrolled": true
   },
   "outputs": [
    {
     "name": "stdout",
     "output_type": "stream",
     "text": [
      "Set parameter Username\n",
      "Academic license - for non-commercial use only - expires 2024-03-07\n"
     ]
    }
   ],
   "source": [
    "data_dir = ''\n",
    "model = cobra.io.read_sbml_model(\"%s%s\" % (data_dir, \"iAF1260.xml\"))"
   ]
  },
  {
   "cell_type": "code",
   "execution_count": 3,
   "metadata": {
    "ExecuteTime": {
     "end_time": "2023-05-03T19:43:57.135806Z",
     "start_time": "2023-05-03T19:43:57.121418Z"
    }
   },
   "outputs": [
    {
     "data": {
      "text/plain": [
       "'0.000223 10fthf_c + 0.000223 2ohph_c + 0.5137 ala__L_c + 0.000223 amet_c + 0.2958 arg__L_c + 0.2411 asn__L_c + 0.2411 asp__L_c + 59.984 atp_c + 0.004737 ca2_c + 0.004737 cl_c + 0.000576 coa_c + 0.003158 cobalt2_c + 0.1335 ctp_c + 0.003158 cu2_c + 0.09158 cys__L_c + 0.02617 datp_c + 0.02702 dctp_c + 0.02702 dgtp_c + 0.02617 dttp_c + 0.000223 fad_c + 0.007106 fe2_c + 0.007106 fe3_c + 0.2632 gln__L_c + 0.2632 glu__L_c + 0.6126 gly_c + 0.2151 gtp_c + 54.462 h2o_c + 0.09474 his__L_c + 0.2905 ile__L_c + 0.1776 k_c + 0.01945 kdo2lipid4_e + 0.4505 leu__L_c + 0.3432 lys__L_c + 0.1537 met__L_c + 0.007895 mg2_c + 0.000223 mlthf_c + 0.003158 mn2_c + 0.003158 mobd_c + 0.01389 murein5px4p_p + 0.001831 nad_c + 0.000447 nadp_c + 0.011843 nh4_c + 0.02233 pe160_c + 0.04148 pe160_p + 0.02632 pe161_c + 0.04889 pe161_p + 0.1759 phe__L_c + 0.000223 pheme_c + 0.2211 pro__L_c + 0.000223 pydx5p_c + 0.000223 ribflv_c + 0.2158 ser__L_c + 0.000223 sheme_c + 0.003948 so4_c + 0.000223 thf_c + 0.000223 thmpp_c + 0.2537 thr__L_c + 0.05684 trp__L_c + 0.1379 tyr__L_c + 5.5e-05 udcpdp_c + 0.1441 utp_c + 0.4232 val__L_c + 0.003158 zn2_c --> 59.81 adp_c + 59.81 h_c + 59.806 pi_c + 0.7739 ppi_c'"
      ]
     },
     "execution_count": 3,
     "metadata": {},
     "output_type": "execute_result"
    }
   ],
   "source": [
    "model.reactions.BIOMASS_Ec_iAF1260_core_59p81M.reaction"
   ]
  },
  {
   "cell_type": "markdown",
   "metadata": {},
   "source": [
    "# Construction of auxotrophic _E. coli_ models for 2 member community"
   ]
  },
  {
   "cell_type": "code",
   "execution_count": 4,
   "metadata": {
    "ExecuteTime": {
     "end_time": "2023-05-03T19:43:59.600176Z",
     "start_time": "2023-05-03T19:43:59.593644Z"
    }
   },
   "outputs": [],
   "source": [
    "exports = ['EX_leu__L_e','EX_lys__L_e'] "
   ]
  },
  {
   "cell_type": "markdown",
   "metadata": {},
   "source": [
    "## Modelos"
   ]
  },
  {
   "cell_type": "markdown",
   "metadata": {
    "ExecuteTime": {
     "end_time": "2020-08-05T16:43:55.012623Z",
     "start_time": "2020-08-05T16:43:55.009846Z"
    }
   },
   "source": [
    "### **ec_minus_lys**: "
   ]
  },
  {
   "cell_type": "markdown",
   "metadata": {},
   "source": [
    "_E. coli_ which requires to have lysine supplemented in media or by other member of the community"
   ]
  },
  {
   "cell_type": "code",
   "execution_count": 5,
   "metadata": {
    "ExecuteTime": {
     "end_time": "2023-05-03T19:44:08.840977Z",
     "start_time": "2023-05-03T19:44:02.248191Z"
    }
   },
   "outputs": [
    {
     "name": "stdout",
     "output_type": "stream",
     "text": [
      "Read LP format model from file /var/folders/fr/z1hdfpn55130hyr53bbb_1_40000gn/T/tmp1nw2bdu8.lp\n",
      "Reading time = 0.02 seconds\n",
      ": 1668 rows, 4764 columns, 18462 nonzeros\n"
     ]
    }
   ],
   "source": [
    "ec_minus_lys = model.copy()"
   ]
  },
  {
   "cell_type": "code",
   "execution_count": 6,
   "metadata": {
    "ExecuteTime": {
     "end_time": "2023-05-03T19:44:08.857534Z",
     "start_time": "2023-05-03T19:44:08.845270Z"
    },
    "scrolled": true
   },
   "outputs": [
    {
     "data": {
      "text/html": [
       "\n",
       "        <table>\n",
       "            <tr>\n",
       "                <td><strong>Reaction identifier</strong></td><td>DAPDC</td>\n",
       "            </tr><tr>\n",
       "                <td><strong>Name</strong></td><td>Diaminopimelate decarboxylase</td>\n",
       "            </tr><tr>\n",
       "                <td><strong>Memory address</strong></td>\n",
       "                <td>0x7fb7a7c3f9d0</td>\n",
       "            </tr><tr>\n",
       "                <td><strong>Stoichiometry</strong></td>\n",
       "                <td>\n",
       "                    <p style='text-align:right'>26dap__M_c + h_c --> co2_c + lys__L_c</p>\n",
       "                    <p style='text-align:right'>Meso-2,6-Diaminoheptanedioate + H+ --> CO2 CO2 + L-Lysine</p>\n",
       "                </td>\n",
       "            </tr><tr>\n",
       "                <td><strong>GPR</strong></td><td>b2838</td>\n",
       "            </tr><tr>\n",
       "                <td><strong>Lower bound</strong></td><td>0.0</td>\n",
       "            </tr><tr>\n",
       "                <td><strong>Upper bound</strong></td><td>999999.0</td>\n",
       "            </tr>\n",
       "        </table>\n",
       "        "
      ],
      "text/plain": [
       "<Reaction DAPDC at 0x7fb7a7c3f9d0>"
      ]
     },
     "execution_count": 6,
     "metadata": {},
     "output_type": "execute_result"
    }
   ],
   "source": [
    "ec_minus_lys.reactions.get_by_id('DAPDC')"
   ]
  },
  {
   "cell_type": "code",
   "execution_count": 7,
   "metadata": {
    "ExecuteTime": {
     "end_time": "2023-05-03T19:44:08.874596Z",
     "start_time": "2023-05-03T19:44:08.861893Z"
    }
   },
   "outputs": [],
   "source": [
    "ec_minus_lys_bound_modifications = {'DAPDC':(0,0),\n",
    "                            'EX_lys__L_e' : (-1000,1000),\n",
    "                                   } \n",
    "for rid in ec_minus_lys_bound_modifications:\n",
    "    r = ec_minus_lys.reactions.get_by_id(rid)\n",
    "    r.bounds = ec_minus_lys_bound_modifications[rid]"
   ]
  },
  {
   "cell_type": "markdown",
   "metadata": {},
   "source": [
    "Check lysine requirement"
   ]
  },
  {
   "cell_type": "code",
   "execution_count": 8,
   "metadata": {
    "ExecuteTime": {
     "end_time": "2023-05-03T19:44:08.991771Z",
     "start_time": "2023-05-03T19:44:08.880748Z"
    },
    "scrolled": true
   },
   "outputs": [
    {
     "data": {
      "text/plain": [
       "0.7678945589305766"
      ]
     },
     "execution_count": 8,
     "metadata": {},
     "output_type": "execute_result"
    }
   ],
   "source": [
    "ec_minus_lys.slim_optimize()"
   ]
  },
  {
   "cell_type": "code",
   "execution_count": null,
   "metadata": {
    "ExecuteTime": {
     "start_time": "2023-05-03T19:44:09.839Z"
    }
   },
   "outputs": [
    {
     "name": "stdout",
     "output_type": "stream",
     "text": [
      "Set parameter Username\n",
      "Academic license - for non-commercial use only - expires 2024-03-07\n",
      "Read LP format model from file /var/folders/fr/z1hdfpn55130hyr53bbb_1_40000gn/T/tmpjhfpphen.lp\n",
      "Reading time = 0.02 seconds\n",
      ": 1669 rows, 4765 columns, 18465 nonzeros\n",
      "Set parameter Username\n",
      "Academic license - for non-commercial use only - expires 2024-03-07\n",
      "Read LP format model from file /var/folders/fr/z1hdfpn55130hyr53bbb_1_40000gn/T/tmp9rdc8fq9.lp\n",
      "Reading time = 0.02 seconds\n",
      ": 1669 rows, 4765 columns, 18465 nonzeros\n",
      "Set parameter Username\n",
      "Academic license - for non-commercial use only - expires 2024-03-07\n",
      "Read LP format model from file /var/folders/fr/z1hdfpn55130hyr53bbb_1_40000gn/T/tmpp23jfnlk.lp\n",
      "Reading time = 0.05 seconds\n",
      ": 1669 rows, 4765 columns, 18465 nonzeros\n",
      "Set parameter Username\n",
      "Academic license - for non-commercial use only - expires 2024-03-07\n",
      "Read LP format model from file /var/folders/fr/z1hdfpn55130hyr53bbb_1_40000gn/T/tmps3l0qrng.lp\n",
      "Reading time = 0.02 seconds\n",
      ": 1669 rows, 4765 columns, 18465 nonzeros\n"
     ]
    }
   ],
   "source": [
    "flux_variability_analysis(ec_minus_lys, exports, fraction_of_optimum=0.1)"
   ]
  },
  {
   "cell_type": "markdown",
   "metadata": {},
   "source": [
    "### **ec_minus_leu**:\n"
   ]
  },
  {
   "cell_type": "markdown",
   "metadata": {},
   "source": [
    "_E. coli_ requires Leucine due to knockout on IPPS (2-isopropylmalate synthase) reaction"
   ]
  },
  {
   "cell_type": "code",
   "execution_count": null,
   "metadata": {
    "ExecuteTime": {
     "start_time": "2023-05-03T19:44:13.123Z"
    }
   },
   "outputs": [],
   "source": [
    "ec_minus_leu = model.copy()"
   ]
  },
  {
   "cell_type": "code",
   "execution_count": null,
   "metadata": {
    "ExecuteTime": {
     "start_time": "2023-05-03T19:44:13.612Z"
    }
   },
   "outputs": [],
   "source": [
    "ec_minus_leu.reactions.get_by_id('IPPS')"
   ]
  },
  {
   "cell_type": "code",
   "execution_count": null,
   "metadata": {
    "ExecuteTime": {
     "start_time": "2023-05-03T19:44:14.686Z"
    }
   },
   "outputs": [],
   "source": [
    "ec_minus_leu_bound_modifications = {'IPPS':(0,0),\n",
    "                            'EX_leu__L_e' : (-1000,1000),\n",
    "                                   } \n",
    "for rid in ec_minus_leu_bound_modifications:\n",
    "    r = ec_minus_leu.reactions.get_by_id(rid)\n",
    "    r.bounds = ec_minus_leu_bound_modifications[rid]"
   ]
  },
  {
   "cell_type": "markdown",
   "metadata": {},
   "source": [
    "Check leucine requirement"
   ]
  },
  {
   "cell_type": "code",
   "execution_count": null,
   "metadata": {
    "ExecuteTime": {
     "start_time": "2023-05-03T19:44:15.845Z"
    }
   },
   "outputs": [],
   "source": [
    "ec_minus_leu.slim_optimize()"
   ]
  },
  {
   "cell_type": "code",
   "execution_count": null,
   "metadata": {
    "ExecuteTime": {
     "start_time": "2023-05-03T19:44:19.468Z"
    }
   },
   "outputs": [],
   "source": [
    "flux_variability_analysis(ec_minus_leu, exports, fraction_of_optimum=0.1)"
   ]
  },
  {
   "cell_type": "markdown",
   "metadata": {},
   "source": [
    "## Store individual models and generate ecosystem object"
   ]
  },
  {
   "cell_type": "code",
   "execution_count": null,
   "metadata": {
    "ExecuteTime": {
     "start_time": "2023-05-03T19:44:21.016Z"
    }
   },
   "outputs": [],
   "source": [
    "member_models = { 'ec_minus_lys':ec_minus_lys,\n",
    "                  'ec_minus_leu':ec_minus_leu         \n",
    "                 }\n",
    "\n",
    "for model_id in member_models:\n",
    "    filename = \"%s.xml\" % (model_id)\n",
    "    member_model = member_models[model_id]\n",
    "    cobra.io.write_sbml_model(member_model, filename)\n",
    "    print('model %s stored' % model_id)"
   ]
  },
  {
   "cell_type": "code",
   "execution_count": null,
   "metadata": {
    "ExecuteTime": {
     "start_time": "2023-05-03T19:44:22.100Z"
    }
   },
   "outputs": [],
   "source": [
    "member_models = [ec_minus_lys, ec_minus_leu]"
   ]
  },
  {
   "cell_type": "code",
   "execution_count": null,
   "metadata": {
    "ExecuteTime": {
     "start_time": "2023-05-03T19:44:23.551Z"
    }
   },
   "outputs": [],
   "source": [
    "eco2 = Ecosystem(models = member_models, prefixes=['eco_lys', 'eco_leu'], \n",
    "                     community_name = 'eco2', community_id = 'eco2', solver='gurobi')"
   ]
  },
  {
   "cell_type": "markdown",
   "metadata": {},
   "source": [
    "### Set bounds simulation"
   ]
  },
  {
   "cell_type": "markdown",
   "metadata": {},
   "source": [
    "From Zhang et al., (2014), uptake of single cultured strains (Table 1):\n",
    "- dlysA: 0.161 mmol/gDW/h\n",
    "- dleuA: 0.220 mmol/gDW/h\n",
    "\n",
    "Table S1: glc uptake rate by the community: 6.025 mmol/gDW/h"
   ]
  },
  {
   "cell_type": "raw",
   "metadata": {
    "ExecuteTime": {
     "end_time": "2023-03-24T16:23:44.616851Z",
     "start_time": "2023-03-24T16:23:44.593315Z"
    }
   },
   "source": [
    "case = 'sim_glc_leu'\n",
    "eco2.set_pool_bounds({'glc__D_e':(-10,1000)}, bioCons = -10)\n",
    "eco2.set_pool_bounds({'lys__L_e':(0,1000)}, bioCons = -0.161)\n",
    "eco2.set_pool_bounds({'leu__L_e':(-1,1000)}, bioCons = -0.22)\n",
    "eco2.set_pool_bounds({'o2_e':(-15,1000)}, bioCons = -15)\n",
    "#restringir nitrogeno -> no lo restringieron en paper"
   ]
  },
  {
   "cell_type": "raw",
   "metadata": {
    "ExecuteTime": {
     "end_time": "2023-03-28T01:44:29.556233Z",
     "start_time": "2023-03-28T01:44:29.547625Z"
    }
   },
   "source": [
    "case = 'sim_glc_cons_leu_prod'\n",
    "eco2.set_pool_bounds({'glc__D_e':(-10,1000)}, bioCons = -10)\n",
    "eco2.set_pool_bounds({'lys__L_e':(0,1000)}, bioCons = -0.161)\n",
    "eco2.set_pool_bounds({'leu__L_e':(-0.2,1000)}, bioCons = -0.22)\n",
    "eco2.set_pool_bounds({'o2_e':(-15,1000)}, bioCons = -15)\n",
    "\n",
    "eco2.cmodel.reactions.eco_lys_EX_leu__L_e.upper_bound = 0.2\n",
    "#restringir nitrogeno -> no lo restringieron en paper"
   ]
  },
  {
   "cell_type": "raw",
   "metadata": {
    "ExecuteTime": {
     "end_time": "2023-03-28T01:47:35.260550Z",
     "start_time": "2023-03-28T01:47:35.253585Z"
    }
   },
   "source": [
    "case = 'sim_glc_cons_lys_prod'\n",
    "eco2.set_pool_bounds({'glc__D_e':(-10,1000)}, bioCons = -10)\n",
    "eco2.set_pool_bounds({'lys__L_e':(-0.2,1000)}, bioCons = -0.161)\n",
    "eco2.set_pool_bounds({'leu__L_e':(0,1000)}, bioCons = -0.22)\n",
    "eco2.set_pool_bounds({'o2_e':(-15,1000)}, bioCons = -15)\n",
    "\n",
    "eco2.cmodel.reactions.eco_leu_EX_lys__L_e.upper_bound = 0.2\n",
    "#restringir nitrogeno -> no lo restringieron en paper"
   ]
  },
  {
   "cell_type": "raw",
   "metadata": {
    "ExecuteTime": {
     "end_time": "2023-03-28T13:41:56.687228Z",
     "start_time": "2023-03-28T13:41:56.687194Z"
    }
   },
   "source": [
    "case = '1_glc_cons_lys_prod'\n",
    "eco2.set_pool_bounds({'glc__D_e':(-1,1000)}, bioCons = -10)\n",
    "eco2.set_pool_bounds({'lys__L_e':(-0.2,1000)}, bioCons = -0.161)\n",
    "eco2.set_pool_bounds({'leu__L_e':(0,1000)}, bioCons = -0.22)\n",
    "eco2.set_pool_bounds({'o2_e':(-15,1000)}, bioCons = -15)\n",
    "\n",
    "eco2.cmodel.reactions.eco_leu_EX_lys__L_e.upper_bound = 0.2\n",
    "#restringir nitrogeno -> no lo restringieron en paper"
   ]
  },
  {
   "cell_type": "code",
   "execution_count": 23,
   "metadata": {
    "ExecuteTime": {
     "end_time": "2023-04-11T19:52:00.591935Z",
     "start_time": "2023-04-11T19:52:00.577483Z"
    }
   },
   "outputs": [],
   "source": [
    "case = 'sim_glc_cons_AA_prod_no_AA'\n",
    "eco2.set_pool_bounds({'glc__D_e':(-10,1000)}, bioCons = -10)\n",
    "eco2.set_pool_bounds({'lys__L_e':(0,1000)}, bioCons = -0.161)\n",
    "eco2.set_pool_bounds({'leu__L_e':(0,1000)}, bioCons = -0.22)\n",
    "eco2.set_pool_bounds({'o2_e':(-15,1000)}, bioCons = -15)\n",
    "\n",
    "eco2.cmodel.reactions.eco_leu_EX_lys__L_e.upper_bound = 0.2\n",
    "eco2.cmodel.reactions.eco_lys_EX_leu__L_e.upper_bound = 0.2\n",
    "#restringir nitrogeno -> no lo restringieron en paper"
   ]
  },
  {
   "cell_type": "raw",
   "metadata": {
    "ExecuteTime": {
     "end_time": "2023-03-28T17:23:24.416554Z",
     "start_time": "2023-03-28T17:23:24.399844Z"
    }
   },
   "source": [
    "case = 'sim_glc_cons_03AA_prod_no_AA'\n",
    "eco2.set_pool_bounds({'glc__D_e':(-10,1000)}, bioCons = -10)\n",
    "eco2.set_pool_bounds({'lys__L_e':(0,1000)}, bioCons = -0.161)\n",
    "eco2.set_pool_bounds({'leu__L_e':(0,1000)}, bioCons = -0.22)\n",
    "eco2.set_pool_bounds({'o2_e':(-15,1000)}, bioCons = -15)\n",
    "\n",
    "eco2.cmodel.reactions.eco_leu_EX_lys__L_e.upper_bound = 0.3\n",
    "eco2.cmodel.reactions.eco_lys_EX_leu__L_e.upper_bound = 0.3\n",
    "#restringir nitrogeno -> no lo restringieron en paper"
   ]
  },
  {
   "cell_type": "raw",
   "metadata": {
    "ExecuteTime": {
     "end_time": "2023-03-28T17:25:15.185941Z",
     "start_time": "2023-03-28T17:25:15.168300Z"
    }
   },
   "source": [
    "case = 'sim_glc_cons_04AA_prod_no_AA'\n",
    "eco2.set_pool_bounds({'glc__D_e':(-10,1000)}, bioCons = -10)\n",
    "eco2.set_pool_bounds({'lys__L_e':(0,1000)}, bioCons = -0.161)\n",
    "eco2.set_pool_bounds({'leu__L_e':(0,1000)}, bioCons = -0.22)\n",
    "eco2.set_pool_bounds({'o2_e':(-15,1000)}, bioCons = -15)\n",
    "\n",
    "eco2.cmodel.reactions.eco_leu_EX_lys__L_e.upper_bound = 0.4\n",
    "eco2.cmodel.reactions.eco_lys_EX_leu__L_e.upper_bound = 0.4\n",
    "#restringir nitrogeno -> no lo restringieron en paper"
   ]
  },
  {
   "cell_type": "raw",
   "metadata": {
    "ExecuteTime": {
     "end_time": "2023-03-29T14:32:38.625909Z",
     "start_time": "2023-03-29T14:32:38.587571Z"
    }
   },
   "source": [
    "case = 'sim_glc_cons_01AA_prod_no_AA'\n",
    "eco2.set_pool_bounds({'glc__D_e':(-10,1000)}, bioCons = -10)\n",
    "eco2.set_pool_bounds({'lys__L_e':(0,1000)}, bioCons = -0.161)\n",
    "eco2.set_pool_bounds({'leu__L_e':(0,1000)}, bioCons = -0.22)\n",
    "eco2.set_pool_bounds({'o2_e':(-15,1000)}, bioCons = -15)\n",
    "\n",
    "eco2.cmodel.reactions.eco_leu_EX_lys__L_e.upper_bound = 0.1\n",
    "eco2.cmodel.reactions.eco_lys_EX_leu__L_e.upper_bound = 0.1\n",
    "#restringir nitrogeno -> no lo restringieron en paper"
   ]
  },
  {
   "cell_type": "raw",
   "metadata": {
    "ExecuteTime": {
     "end_time": "2023-03-29T16:42:22.778133Z",
     "start_time": "2023-03-29T16:42:22.745692Z"
    }
   },
   "source": [
    "case = 'sim_glc_cons_AA_prod_001_AA'\n",
    "eco2.set_pool_bounds({'glc__D_e':(-10,1000)}, bioCons = -10)\n",
    "eco2.set_pool_bounds({'lys__L_e':(-0.01,1000)}, bioCons = -0.161)\n",
    "eco2.set_pool_bounds({'leu__L_e':(-0.01,1000)}, bioCons = -0.22)\n",
    "eco2.set_pool_bounds({'o2_e':(-15,1000)}, bioCons = -15)\n",
    "\n",
    "eco2.cmodel.reactions.eco_leu_EX_lys__L_e.upper_bound = 0.2\n",
    "eco2.cmodel.reactions.eco_lys_EX_leu__L_e.upper_bound = 0.2\n",
    "#restringir nitrogeno -> no lo restringieron en paper"
   ]
  },
  {
   "cell_type": "raw",
   "metadata": {
    "ExecuteTime": {
     "end_time": "2023-04-04T02:14:21.647051Z",
     "start_time": "2023-04-04T02:14:21.641667Z"
    }
   },
   "source": [
    "case = 'sim_glc_cons_AA_prod_002_AA'\n",
    "eco2.set_pool_bounds({'glc__D_e':(-10,1000)}, bioCons = -10)\n",
    "eco2.set_pool_bounds({'lys__L_e':(-0.02,1000)}, bioCons = -0.161)\n",
    "eco2.set_pool_bounds({'leu__L_e':(-0.02,1000)}, bioCons = -0.22)\n",
    "eco2.set_pool_bounds({'o2_e':(-15,1000)}, bioCons = -15)\n",
    "\n",
    "eco2.cmodel.reactions.eco_leu_EX_lys__L_e.upper_bound = 0.2\n",
    "eco2.cmodel.reactions.eco_lys_EX_leu__L_e.upper_bound = 0.2\n",
    "#restringir nitrogeno -> no lo restringieron en paper"
   ]
  },
  {
   "cell_type": "raw",
   "metadata": {
    "ExecuteTime": {
     "end_time": "2023-04-04T02:22:19.412699Z",
     "start_time": "2023-04-04T02:22:19.385447Z"
    }
   },
   "source": [
    "case = 'sim_glc_cons_AA_prod_005_AA'\n",
    "eco2.set_pool_bounds({'glc__D_e':(-10,1000)}, bioCons = -10)\n",
    "eco2.set_pool_bounds({'lys__L_e':(-0.05,1000)}, bioCons = -0.161)\n",
    "eco2.set_pool_bounds({'leu__L_e':(-0.05,1000)}, bioCons = -0.22)\n",
    "eco2.set_pool_bounds({'o2_e':(-15,1000)}, bioCons = -15)\n",
    "\n",
    "eco2.cmodel.reactions.eco_leu_EX_lys__L_e.upper_bound = 0.2\n",
    "eco2.cmodel.reactions.eco_lys_EX_leu__L_e.upper_bound = 0.2\n",
    "#restringir nitrogeno -> no lo restringieron en paper"
   ]
  },
  {
   "cell_type": "raw",
   "metadata": {
    "ExecuteTime": {
     "end_time": "2023-04-04T02:24:58.268442Z",
     "start_time": "2023-04-04T02:24:58.262062Z"
    }
   },
   "source": [
    "case = 'sim_glc_cons_AA_prod_001_lys'\n",
    "eco2.set_pool_bounds({'glc__D_e':(-10,1000)}, bioCons = -10)\n",
    "eco2.set_pool_bounds({'lys__L_e':(-0.01,1000)}, bioCons = -0.161)\n",
    "eco2.set_pool_bounds({'leu__L_e':(0,1000)}, bioCons = -0.22)\n",
    "eco2.set_pool_bounds({'o2_e':(-15,1000)}, bioCons = -15)\n",
    "\n",
    "eco2.cmodel.reactions.eco_leu_EX_lys__L_e.upper_bound = 0.2\n",
    "eco2.cmodel.reactions.eco_lys_EX_leu__L_e.upper_bound = 0.2\n",
    "#restringir nitrogeno -> no lo restringieron en paper"
   ]
  },
  {
   "cell_type": "raw",
   "metadata": {
    "ExecuteTime": {
     "end_time": "2023-04-04T10:19:34.220313Z",
     "start_time": "2023-04-04T10:19:34.185093Z"
    }
   },
   "source": [
    "case = 'sim_glc_cons_AA_prod_001_leu'\n",
    "eco2.set_pool_bounds({'glc__D_e':(-10,1000)}, bioCons = -10)\n",
    "eco2.set_pool_bounds({'lys__L_e':(0,1000)}, bioCons = -0.161)\n",
    "eco2.set_pool_bounds({'leu__L_e':(-0.01,1000)}, bioCons = -0.22)\n",
    "eco2.set_pool_bounds({'o2_e':(-15,1000)}, bioCons = -15)\n",
    "\n",
    "eco2.cmodel.reactions.eco_leu_EX_lys__L_e.upper_bound = 0.2\n",
    "eco2.cmodel.reactions.eco_lys_EX_leu__L_e.upper_bound = 0.2\n",
    "#restringir nitrogeno -> no lo restringieron en paper"
   ]
  },
  {
   "cell_type": "raw",
   "metadata": {},
   "source": [
    "#sim_glc_no_AA\n",
    "case = 'sim_glc_no_AA'\n",
    "eco2.set_pool_bounds({'glc__D_e':(-10,1000)}, bioCons = -10)\n",
    "eco2.set_pool_bounds({'lys__L_e':(0,1000)}, bioCons = -0.05) #0.161\n",
    "eco2.set_pool_bounds({'leu__L_e':(0,1000)}, bioCons = -0.22)\n",
    "eco2.set_pool_bounds({'o2_e':(-15,1000)}, bioCons = -15)\n",
    "#restringir nitrogeno -> no lo restringieron en paper"
   ]
  },
  {
   "cell_type": "raw",
   "metadata": {},
   "source": [
    "eco2.cmodel.reactions.EX_glc__D_e.bounds = (-6.059, 0)\n",
    "eco2.cmodel.reactions.EX_lys__L_e.bounds = (-0.161, 0)\n",
    "eco2.cmodel.reactions.EX_leu__L_e.bounds = (-0.220, 0)"
   ]
  },
  {
   "cell_type": "code",
   "execution_count": 24,
   "metadata": {
    "ExecuteTime": {
     "end_time": "2023-04-11T19:52:01.166985Z",
     "start_time": "2023-04-11T19:52:00.605909Z"
    }
   },
   "outputs": [
    {
     "data": {
      "text/html": [
       "<strong><em>Optimal</em> solution with objective value 0.469</strong><br><div>\n",
       "<style scoped>\n",
       "    .dataframe tbody tr th:only-of-type {\n",
       "        vertical-align: middle;\n",
       "    }\n",
       "\n",
       "    .dataframe tbody tr th {\n",
       "        vertical-align: top;\n",
       "    }\n",
       "\n",
       "    .dataframe thead th {\n",
       "        text-align: right;\n",
       "    }\n",
       "</style>\n",
       "<table border=\"1\" class=\"dataframe\">\n",
       "  <thead>\n",
       "    <tr style=\"text-align: right;\">\n",
       "      <th></th>\n",
       "      <th>fluxes</th>\n",
       "      <th>reduced_costs</th>\n",
       "    </tr>\n",
       "  </thead>\n",
       "  <tbody>\n",
       "    <tr>\n",
       "      <th>eco_lys_ACGAM1PPpp</th>\n",
       "      <td>0.000</td>\n",
       "      <td>0.0</td>\n",
       "    </tr>\n",
       "    <tr>\n",
       "      <th>eco_lys_2AGPA140tipp</th>\n",
       "      <td>0.000</td>\n",
       "      <td>0.0</td>\n",
       "    </tr>\n",
       "    <tr>\n",
       "      <th>eco_lys_EX_acser_e</th>\n",
       "      <td>0.000</td>\n",
       "      <td>0.0</td>\n",
       "    </tr>\n",
       "    <tr>\n",
       "      <th>eco_lys_2AGPA141tipp</th>\n",
       "      <td>0.000</td>\n",
       "      <td>0.0</td>\n",
       "    </tr>\n",
       "    <tr>\n",
       "      <th>eco_lys_2AGPA160tipp</th>\n",
       "      <td>0.000</td>\n",
       "      <td>0.0</td>\n",
       "    </tr>\n",
       "    <tr>\n",
       "      <th>...</th>\n",
       "      <td>...</td>\n",
       "      <td>...</td>\n",
       "    </tr>\n",
       "    <tr>\n",
       "      <th>EX_lys__L_e</th>\n",
       "      <td>0.039</td>\n",
       "      <td>0.0</td>\n",
       "    </tr>\n",
       "    <tr>\n",
       "      <th>EX_lyx__L_e</th>\n",
       "      <td>0.000</td>\n",
       "      <td>0.0</td>\n",
       "    </tr>\n",
       "    <tr>\n",
       "      <th>EX_mal__D_e</th>\n",
       "      <td>0.000</td>\n",
       "      <td>0.0</td>\n",
       "    </tr>\n",
       "    <tr>\n",
       "      <th>EX_mal__L_e</th>\n",
       "      <td>0.000</td>\n",
       "      <td>0.0</td>\n",
       "    </tr>\n",
       "    <tr>\n",
       "      <th>EX_malt_e</th>\n",
       "      <td>0.000</td>\n",
       "      <td>0.0</td>\n",
       "    </tr>\n",
       "  </tbody>\n",
       "</table>\n",
       "<p>5068 rows × 2 columns</p>\n",
       "</div>"
      ],
      "text/plain": [
       "<Solution 0.469 at 0x7fd4d7e6dd90>"
      ]
     },
     "execution_count": 24,
     "metadata": {},
     "output_type": "execute_result"
    }
   ],
   "source": [
    "eco2.cmodel.optimize()"
   ]
  },
  {
   "cell_type": "code",
   "execution_count": 25,
   "metadata": {
    "ExecuteTime": {
     "end_time": "2023-04-11T19:52:02.072889Z",
     "start_time": "2023-04-11T19:52:01.170079Z"
    }
   },
   "outputs": [
    {
     "data": {
      "text/html": [
       "<h3>Objective</h3><p>1.0 eco_lys_BIOMASS_Ec_iAF1260_core_59p81M = 0.46911421911421913</p><h4>Uptake</h4><table border=\"1\" class=\"dataframe\">\n",
       "  <thead>\n",
       "    <tr style=\"text-align: right;\">\n",
       "      <th>Metabolite</th>\n",
       "      <th>Reaction</th>\n",
       "      <th>Flux</th>\n",
       "      <th>C-Number</th>\n",
       "      <th>C-Flux</th>\n",
       "    </tr>\n",
       "  </thead>\n",
       "  <tbody>\n",
       "    <tr>\n",
       "      <td>ca2_e_pool</td>\n",
       "      <td>EX_ca2_e</td>\n",
       "      <td>0.002222</td>\n",
       "      <td>0</td>\n",
       "      <td>0.00%</td>\n",
       "    </tr>\n",
       "    <tr>\n",
       "      <td>cl_e_pool</td>\n",
       "      <td>EX_cl_e</td>\n",
       "      <td>0.002222</td>\n",
       "      <td>0</td>\n",
       "      <td>0.00%</td>\n",
       "    </tr>\n",
       "    <tr>\n",
       "      <td>cobalt2_e_pool</td>\n",
       "      <td>EX_cobalt2_e</td>\n",
       "      <td>0.001481</td>\n",
       "      <td>0</td>\n",
       "      <td>0.00%</td>\n",
       "    </tr>\n",
       "    <tr>\n",
       "      <td>cu2_e_pool</td>\n",
       "      <td>EX_cu2_e</td>\n",
       "      <td>0.001481</td>\n",
       "      <td>0</td>\n",
       "      <td>0.00%</td>\n",
       "    </tr>\n",
       "    <tr>\n",
       "      <td>fe2_e_pool</td>\n",
       "      <td>EX_fe2_e</td>\n",
       "      <td>0.006876</td>\n",
       "      <td>0</td>\n",
       "      <td>0.00%</td>\n",
       "    </tr>\n",
       "    <tr>\n",
       "      <td>glc__D_e_pool</td>\n",
       "      <td>EX_glc__D_e</td>\n",
       "      <td>5.649</td>\n",
       "      <td>6</td>\n",
       "      <td>100.00%</td>\n",
       "    </tr>\n",
       "    <tr>\n",
       "      <td>k_e_pool</td>\n",
       "      <td>EX_k_e</td>\n",
       "      <td>0.08331</td>\n",
       "      <td>0</td>\n",
       "      <td>0.00%</td>\n",
       "    </tr>\n",
       "    <tr>\n",
       "      <td>mg2_e_pool</td>\n",
       "      <td>EX_mg2_e</td>\n",
       "      <td>0.003704</td>\n",
       "      <td>0</td>\n",
       "      <td>0.00%</td>\n",
       "    </tr>\n",
       "    <tr>\n",
       "      <td>mn2_e_pool</td>\n",
       "      <td>EX_mn2_e</td>\n",
       "      <td>0.001481</td>\n",
       "      <td>0</td>\n",
       "      <td>0.00%</td>\n",
       "    </tr>\n",
       "    <tr>\n",
       "      <td>mobd_e_pool</td>\n",
       "      <td>EX_mobd_e</td>\n",
       "      <td>0.001481</td>\n",
       "      <td>0</td>\n",
       "      <td>0.00%</td>\n",
       "    </tr>\n",
       "    <tr>\n",
       "      <td>nh4_e_pool</td>\n",
       "      <td>EX_nh4_e</td>\n",
       "      <td>5.059</td>\n",
       "      <td>0</td>\n",
       "      <td>0.00%</td>\n",
       "    </tr>\n",
       "    <tr>\n",
       "      <td>o2_e_pool</td>\n",
       "      <td>EX_o2_e</td>\n",
       "      <td>13.14</td>\n",
       "      <td>0</td>\n",
       "      <td>0.00%</td>\n",
       "    </tr>\n",
       "    <tr>\n",
       "      <td>pi_e_pool</td>\n",
       "      <td>EX_pi_e</td>\n",
       "      <td>0.451</td>\n",
       "      <td>0</td>\n",
       "      <td>0.00%</td>\n",
       "    </tr>\n",
       "    <tr>\n",
       "      <td>so4_e_pool</td>\n",
       "      <td>EX_so4_e</td>\n",
       "      <td>0.1174</td>\n",
       "      <td>0</td>\n",
       "      <td>0.00%</td>\n",
       "    </tr>\n",
       "    <tr>\n",
       "      <td>zn2_e_pool</td>\n",
       "      <td>EX_zn2_e</td>\n",
       "      <td>0.001481</td>\n",
       "      <td>0</td>\n",
       "      <td>0.00%</td>\n",
       "    </tr>\n",
       "  </tbody>\n",
       "</table><h4>Secretion</h4><table border=\"1\" class=\"dataframe\">\n",
       "  <thead>\n",
       "    <tr style=\"text-align: right;\">\n",
       "      <th>Metabolite</th>\n",
       "      <th>Reaction</th>\n",
       "      <th>Flux</th>\n",
       "      <th>C-Number</th>\n",
       "      <th>C-Flux</th>\n",
       "    </tr>\n",
       "  </thead>\n",
       "  <tbody>\n",
       "    <tr>\n",
       "      <td>4hba_c_pool</td>\n",
       "      <td>EX_4hba_c</td>\n",
       "      <td>-0.0001046</td>\n",
       "      <td>7</td>\n",
       "      <td>0.00%</td>\n",
       "    </tr>\n",
       "    <tr>\n",
       "      <td>ac_e_pool</td>\n",
       "      <td>EX_ac_e</td>\n",
       "      <td>-0.2726</td>\n",
       "      <td>2</td>\n",
       "      <td>3.71%</td>\n",
       "    </tr>\n",
       "    <tr>\n",
       "      <td>co2_e_pool</td>\n",
       "      <td>EX_co2_e</td>\n",
       "      <td>-14.14</td>\n",
       "      <td>1</td>\n",
       "      <td>96.28%</td>\n",
       "    </tr>\n",
       "    <tr>\n",
       "      <td>h2o_e_pool</td>\n",
       "      <td>EX_h2o_e</td>\n",
       "      <td>-26.5</td>\n",
       "      <td>0</td>\n",
       "      <td>0.00%</td>\n",
       "    </tr>\n",
       "    <tr>\n",
       "      <td>h_e_pool</td>\n",
       "      <td>EX_h_e</td>\n",
       "      <td>-4.578</td>\n",
       "      <td>0</td>\n",
       "      <td>0.00%</td>\n",
       "    </tr>\n",
       "    <tr>\n",
       "      <td>hmfurn_c_pool</td>\n",
       "      <td>EX_hmfurn_c</td>\n",
       "      <td>-0.0002092</td>\n",
       "      <td>5</td>\n",
       "      <td>0.01%</td>\n",
       "    </tr>\n",
       "  </tbody>\n",
       "</table>"
      ],
      "text/plain": [
       "<cobra.summary.model_summary.ModelSummary at 0x7fd4e177b940>"
      ]
     },
     "execution_count": 25,
     "metadata": {},
     "output_type": "execute_result"
    }
   ],
   "source": [
    "eco2.cmodel.summary()"
   ]
  },
  {
   "cell_type": "code",
   "execution_count": 26,
   "metadata": {
    "ExecuteTime": {
     "end_time": "2023-04-11T19:52:02.089140Z",
     "start_time": "2023-04-11T19:52:02.077427Z"
    }
   },
   "outputs": [
    {
     "name": "stdout",
     "output_type": "stream",
     "text": [
      "Missing FCA results\n",
      "Using non-blocked reactions only\n",
      "Total reactions considered for fva and clustering: 5068\n"
     ]
    }
   ],
   "source": [
    "eco2.set_cluster_reactions()"
   ]
  },
  {
   "cell_type": "markdown",
   "metadata": {},
   "source": [
    "### Compute grid"
   ]
  },
  {
   "cell_type": "code",
   "execution_count": 27,
   "metadata": {
    "ExecuteTime": {
     "end_time": "2023-04-11T19:52:02.760986Z",
     "start_time": "2023-04-11T19:52:02.101399Z"
    }
   },
   "outputs": [
    {
     "name": "stdout",
     "output_type": "stream",
     "text": [
      "Maximum community:0.46911421911421913\n",
      "[0.         0.02040816 0.04081633 0.06122449 0.08163265 0.10204082\n",
      " 0.12244898 0.14285714 0.16326531 0.18367347 0.20408163 0.2244898\n",
      " 0.24489796 0.26530612 0.28571429 0.30612245 0.32653061 0.34693878\n",
      " 0.36734694 0.3877551  0.40816327 0.42857143 0.44897959 0.46938776\n",
      " 0.48979592 0.51020408 0.53061224 0.55102041 0.57142857 0.59183673\n",
      " 0.6122449  0.63265306 0.65306122 0.67346939 0.69387755 0.71428571\n",
      " 0.73469388 0.75510204 0.7755102  0.79591837 0.81632653 0.83673469\n",
      " 0.85714286 0.87755102 0.89795918 0.91836735 0.93877551 0.95918367\n",
      " 0.97959184 1.        ]\n",
      "[0.         0.00957376 0.01914752 0.02872128 0.03829504 0.0478688\n",
      " 0.05744256 0.06701632 0.07659008 0.08616384 0.0957376  0.10531136\n",
      " 0.11488511 0.12445887 0.13403263 0.14360639 0.15318015 0.16275391\n",
      " 0.17232767 0.18190143 0.19147519 0.20104895 0.21062271 0.22019647\n",
      " 0.22977023 0.23934399 0.24891775 0.25849151 0.26806527 0.27763903\n",
      " 0.28721279 0.29678655 0.30636031 0.31593407 0.32550783 0.33508159\n",
      " 0.34465534 0.3542291  0.36380286 0.37337662 0.38295038 0.39252414\n",
      " 0.4020979  0.41167166 0.42124542 0.43081918 0.44039294 0.4499667\n",
      " 0.45954046 0.46911422]\n",
      "[[[0.         0.02040816 0.04081633 ... 0.95918367 0.97959184 1.        ]\n",
      "  [0.         0.02040816 0.04081633 ... 0.95918367 0.97959184 1.        ]\n",
      "  [0.         0.02040816 0.04081633 ... 0.95918367 0.97959184 1.        ]\n",
      "  ...\n",
      "  [0.         0.02040816 0.04081633 ... 0.95918367 0.97959184 1.        ]\n",
      "  [0.         0.02040816 0.04081633 ... 0.95918367 0.97959184 1.        ]\n",
      "  [0.         0.02040816 0.04081633 ... 0.95918367 0.97959184 1.        ]]\n",
      "\n",
      " [[0.         0.         0.         ... 0.         0.         0.        ]\n",
      "  [0.00957376 0.00957376 0.00957376 ... 0.00957376 0.00957376 0.00957376]\n",
      "  [0.01914752 0.01914752 0.01914752 ... 0.01914752 0.01914752 0.01914752]\n",
      "  ...\n",
      "  [0.4499667  0.4499667  0.4499667  ... 0.4499667  0.4499667  0.4499667 ]\n",
      "  [0.45954046 0.45954046 0.45954046 ... 0.45954046 0.45954046 0.45954046]\n",
      "  [0.46911422 0.46911422 0.46911422 ... 0.46911422 0.46911422 0.46911422]]]\n"
     ]
    }
   ],
   "source": [
    "eco2.build_grid(numPoints = 50, expand = True, drop_zero=True, ignore_maint = True)"
   ]
  },
  {
   "cell_type": "code",
   "execution_count": 28,
   "metadata": {
    "ExecuteTime": {
     "end_time": "2023-04-11T19:52:02.842849Z",
     "start_time": "2023-04-11T19:52:02.817515Z"
    }
   },
   "outputs": [],
   "source": [
    "eco2.get_member_reactions()\n",
    "eco2.get_points_distribution()"
   ]
  },
  {
   "cell_type": "code",
   "execution_count": 57,
   "metadata": {
    "ExecuteTime": {
     "end_time": "2023-03-28T13:50:53.502014Z",
     "start_time": "2023-03-28T13:50:52.962098Z"
    },
    "scrolled": true
   },
   "outputs": [
    {
     "data": {
      "image/png": "[encoded data removed]",
      "text/plain": [
       "<Figure size 792x864 with 1 Axes>"
      ]
     },
     "metadata": {
      "needs_background": "light"
     },
     "output_type": "display_data"
    }
   ],
   "source": [
    "import matplotlib.pyplot as plt\n",
    "plt.rcParams.update({'font.size': 30})\n",
    "\n",
    "eco2.plot_2D_slice(prefixes=[], fixed_values=[], parent_cmap='tab20',s=60, figsize=(11,12), \n",
    "                         to_plot = None, show_edge=False,frac_prefix= None,\n",
    "                            xlabel = '$f_{org1}$',\n",
    "                            ylabel ='$\\mu_{com}[h^{-1}]$', saveFile = 'grid')#, fractions=[0.6,0.4],  )"
   ]
  },
  {
   "cell_type": "code",
   "execution_count": 58,
   "metadata": {
    "ExecuteTime": {
     "end_time": "2023-03-28T13:53:02.697017Z",
     "start_time": "2023-03-28T13:50:53.508661Z"
    }
   },
   "outputs": [
    {
     "name": "stdout",
     "output_type": "stream",
     "text": [
      "[0.11111111 0.        ]\n",
      "updating reaction bounds ...\n",
      "[0.22222222 0.        ]\n",
      "updating reaction bounds ...\n",
      "[0.33333333 0.        ]\n",
      "updating reaction bounds ...\n",
      "[0.44444444 0.        ]\n",
      "updating reaction bounds ...\n",
      "[0.55555556 0.        ]\n",
      "updating reaction bounds ...\n",
      "[0.66666667 0.        ]\n",
      "updating reaction bounds ...\n",
      "[0.77777778 0.        ]\n",
      "updating reaction bounds ...\n",
      "[0.88888889 0.        ]\n",
      "updating reaction bounds ...\n",
      "[1. 0.]\n",
      "updating reaction bounds ...\n",
      "[0.        0.0521238]\n",
      "updating reaction bounds ...\n",
      "unfeasible point\n",
      "[0.11111111 0.0521238 ]\n",
      "updating reaction bounds ...\n",
      "[0.22222222 0.0521238 ]\n",
      "updating reaction bounds ...\n",
      "[0.33333333 0.0521238 ]\n",
      "updating reaction bounds ...\n",
      "[0.44444444 0.0521238 ]\n",
      "updating reaction bounds ...\n",
      "[0.55555556 0.0521238 ]\n",
      "updating reaction bounds ...\n",
      "[0.66666667 0.0521238 ]\n",
      "updating reaction bounds ...\n",
      "[0.77777778 0.0521238 ]\n",
      "updating reaction bounds ...\n",
      "[0.88888889 0.0521238 ]\n",
      "updating reaction bounds ...\n",
      "[1.        0.0521238]\n",
      "updating reaction bounds ...\n",
      "unfeasible point\n",
      "[0.        0.1042476]\n",
      "updating reaction bounds ...\n",
      "unfeasible point\n",
      "[0.11111111 0.1042476 ]\n",
      "updating reaction bounds ...\n",
      "unfeasible point\n",
      "[0.22222222 0.1042476 ]\n",
      "updating reaction bounds ...\n",
      "[0.33333333 0.1042476 ]\n",
      "updating reaction bounds ...\n",
      "[0.44444444 0.1042476 ]\n",
      "updating reaction bounds ...\n",
      "[0.55555556 0.1042476 ]\n",
      "updating reaction bounds ...\n",
      "[0.66666667 0.1042476 ]\n",
      "updating reaction bounds ...\n",
      "[0.77777778 0.1042476 ]\n",
      "updating reaction bounds ...\n",
      "[0.88888889 0.1042476 ]\n",
      "updating reaction bounds ...\n",
      "unfeasible point\n",
      "[1.        0.1042476]\n",
      "updating reaction bounds ...\n",
      "unfeasible point\n",
      "[0.         0.15637141]\n",
      "updating reaction bounds ...\n",
      "unfeasible point\n",
      "[0.11111111 0.15637141]\n",
      "updating reaction bounds ...\n",
      "unfeasible point\n",
      "[0.22222222 0.15637141]\n",
      "updating reaction bounds ...\n",
      "unfeasible point\n",
      "[0.33333333 0.15637141]\n",
      "updating reaction bounds ...\n",
      "[0.44444444 0.15637141]\n",
      "updating reaction bounds ...\n",
      "[0.55555556 0.15637141]\n",
      "updating reaction bounds ...\n",
      "[0.66666667 0.15637141]\n",
      "updating reaction bounds ...\n",
      "[0.77777778 0.15637141]\n",
      "updating reaction bounds ...\n",
      "[0.88888889 0.15637141]\n",
      "updating reaction bounds ...\n",
      "unfeasible point\n",
      "[1.         0.15637141]\n",
      "updating reaction bounds ...\n",
      "unfeasible point\n",
      "[0.         0.20849521]\n",
      "updating reaction bounds ...\n",
      "unfeasible point\n",
      "[0.11111111 0.20849521]\n",
      "updating reaction bounds ...\n",
      "unfeasible point\n",
      "[0.22222222 0.20849521]\n",
      "updating reaction bounds ...\n",
      "unfeasible point\n",
      "[0.33333333 0.20849521]\n",
      "updating reaction bounds ...\n",
      "[0.44444444 0.20849521]\n",
      "updating reaction bounds ...\n",
      "[0.55555556 0.20849521]\n",
      "updating reaction bounds ...\n",
      "[0.66666667 0.20849521]\n",
      "updating reaction bounds ...\n",
      "[0.77777778 0.20849521]\n",
      "updating reaction bounds ...\n",
      "unfeasible point\n",
      "[0.88888889 0.20849521]\n",
      "updating reaction bounds ...\n",
      "unfeasible point\n",
      "[1.         0.20849521]\n",
      "updating reaction bounds ...\n",
      "unfeasible point\n",
      "[0.         0.26061901]\n",
      "updating reaction bounds ...\n",
      "unfeasible point\n",
      "[0.11111111 0.26061901]\n",
      "updating reaction bounds ...\n",
      "unfeasible point\n",
      "[0.22222222 0.26061901]\n",
      "updating reaction bounds ...\n",
      "unfeasible point\n",
      "[0.33333333 0.26061901]\n",
      "updating reaction bounds ...\n",
      "unfeasible point\n",
      "[0.44444444 0.26061901]\n",
      "updating reaction bounds ...\n",
      "[0.55555556 0.26061901]\n",
      "updating reaction bounds ...\n",
      "[0.66666667 0.26061901]\n",
      "updating reaction bounds ...\n",
      "[0.77777778 0.26061901]\n",
      "updating reaction bounds ...\n",
      "unfeasible point\n",
      "[0.88888889 0.26061901]\n",
      "updating reaction bounds ...\n",
      "unfeasible point\n",
      "[1.         0.26061901]\n",
      "updating reaction bounds ...\n",
      "unfeasible point\n",
      "[0.         0.31274281]\n",
      "updating reaction bounds ...\n",
      "unfeasible point\n",
      "[0.11111111 0.31274281]\n",
      "updating reaction bounds ...\n",
      "unfeasible point\n",
      "[0.22222222 0.31274281]\n",
      "updating reaction bounds ...\n",
      "unfeasible point\n",
      "[0.33333333 0.31274281]\n",
      "updating reaction bounds ...\n",
      "unfeasible point\n",
      "[0.44444444 0.31274281]\n",
      "updating reaction bounds ...\n",
      "[0.55555556 0.31274281]\n",
      "updating reaction bounds ...\n",
      "[0.66666667 0.31274281]\n",
      "updating reaction bounds ...\n",
      "unfeasible point\n",
      "[0.77777778 0.31274281]\n",
      "updating reaction bounds ...\n",
      "unfeasible point\n",
      "[0.88888889 0.31274281]\n",
      "updating reaction bounds ...\n",
      "unfeasible point\n",
      "[1.         0.31274281]\n",
      "updating reaction bounds ...\n",
      "unfeasible point\n",
      "[0.         0.36486661]\n",
      "updating reaction bounds ...\n",
      "unfeasible point\n",
      "[0.11111111 0.36486661]\n",
      "updating reaction bounds ...\n",
      "unfeasible point\n",
      "[0.22222222 0.36486661]\n",
      "updating reaction bounds ...\n",
      "unfeasible point\n",
      "[0.33333333 0.36486661]\n",
      "updating reaction bounds ...\n",
      "unfeasible point\n",
      "[0.44444444 0.36486661]\n",
      "updating reaction bounds ...\n",
      "unfeasible point\n",
      "[0.55555556 0.36486661]\n",
      "updating reaction bounds ...\n",
      "[0.66666667 0.36486661]\n",
      "updating reaction bounds ...\n",
      "unfeasible point\n",
      "[0.77777778 0.36486661]\n",
      "updating reaction bounds ...\n",
      "unfeasible point\n",
      "[0.88888889 0.36486661]\n",
      "updating reaction bounds ...\n",
      "unfeasible point\n",
      "[1.         0.36486661]\n",
      "updating reaction bounds ...\n",
      "unfeasible point\n",
      "[0.         0.41699042]\n",
      "updating reaction bounds ...\n",
      "unfeasible point\n",
      "[0.11111111 0.41699042]\n",
      "updating reaction bounds ...\n",
      "unfeasible point\n",
      "[0.22222222 0.41699042]\n",
      "updating reaction bounds ...\n",
      "unfeasible point\n",
      "[0.33333333 0.41699042]\n",
      "updating reaction bounds ...\n",
      "unfeasible point\n",
      "[0.44444444 0.41699042]\n",
      "updating reaction bounds ...\n",
      "unfeasible point\n",
      "[0.55555556 0.41699042]\n",
      "updating reaction bounds ...\n",
      "[0.66666667 0.41699042]\n",
      "updating reaction bounds ...\n",
      "unfeasible point\n",
      "[0.77777778 0.41699042]\n",
      "updating reaction bounds ...\n",
      "unfeasible point\n",
      "[0.88888889 0.41699042]\n",
      "updating reaction bounds ...\n",
      "unfeasible point\n",
      "[1.         0.41699042]\n",
      "updating reaction bounds ...\n",
      "unfeasible point\n",
      "[0.         0.46911422]\n",
      "updating reaction bounds ...\n",
      "unfeasible point\n",
      "[0.11111111 0.46911422]\n",
      "updating reaction bounds ...\n",
      "unfeasible point\n",
      "[0.22222222 0.46911422]\n",
      "updating reaction bounds ...\n",
      "unfeasible point\n",
      "[0.33333333 0.46911422]\n",
      "updating reaction bounds ...\n",
      "unfeasible point\n",
      "[0.44444444 0.46911422]\n",
      "updating reaction bounds ...\n",
      "unfeasible point\n",
      "[0.55555556 0.46911422]\n",
      "updating reaction bounds ...\n",
      "unfeasible point\n",
      "[0.66666667 0.46911422]\n",
      "updating reaction bounds ...\n",
      "unfeasible point\n",
      "[0.77777778 0.46911422]\n",
      "updating reaction bounds ...\n",
      "unfeasible point\n",
      "[0.88888889 0.46911422]\n",
      "updating reaction bounds ...\n",
      "unfeasible point\n",
      "[1.         0.46911422]\n",
      "updating reaction bounds ...\n",
      "unfeasible point\n",
      "grid feasible points: 39 / 99\n"
     ]
    }
   ],
   "source": [
    "eco2.analyze_grid()"
   ]
  },
  {
   "cell_type": "code",
   "execution_count": 60,
   "metadata": {
    "ExecuteTime": {
     "end_time": "2023-03-28T14:02:27.353968Z",
     "start_time": "2023-03-28T14:02:26.985923Z"
    }
   },
   "outputs": [
    {
     "data": {
      "image/png": "[encoded data removed]",
      "text/plain": [
       "<Figure size 792x864 with 2 Axes>"
      ]
     },
     "metadata": {
      "needs_background": "light"
     },
     "output_type": "display_data"
    }
   ],
   "source": [
    "eco2.plot_2D_slice(prefixes=[], fixed_values=[], parent_cmap='tab20',s=60, figsize=(11,12), \n",
    "                         to_plot = 'feasible', show_edge=False,frac_prefix= None,\n",
    "                            xlabel = '$f_{eco\\_lys}$',\n",
    "                            ylabel ='$\\mu_{com}[h^{-1}]$', saveFile = 'grid')#, fractions=[0.6,0.4],  )"
   ]
  },
  {
   "cell_type": "code",
   "execution_count": 58,
   "metadata": {
    "ExecuteTime": {
     "end_time": "2023-04-04T10:19:36.490026Z",
     "start_time": "2023-04-04T10:19:35.625611Z"
    }
   },
   "outputs": [
    {
     "name": "stdout",
     "output_type": "stream",
     "text": [
      "Reduced data for model eco2_2023 and scenario sim_glc_cons_AA_prod_001_leu stored.\n",
      " metadata output: ./eco2_2023_sce_sim_glc_cons_AA_prod_001_leu.p\n",
      " cobra model output: ./eco2_2023_sce_sim_glc_cons_AA_prod_001_leu.json\n"
     ]
    }
   ],
   "source": [
    "#store_miniEco_inputs(eco2, '.', 'cons_glc_AA','eco2_2023')\n",
    "#store_miniEco_inputs(eco2, '.', 'cons_glc_no_AA','eco2_2023')\n",
    "store_miniEco_inputs(eco2, '.', case,'eco2_2023')"
   ]
  },
  {
   "cell_type": "code",
   "execution_count": 59,
   "metadata": {
    "ExecuteTime": {
     "end_time": "2023-04-04T10:19:36.499052Z",
     "start_time": "2023-04-04T10:19:36.492703Z"
    }
   },
   "outputs": [
    {
     "data": {
      "text/plain": [
       "[{'eco_lys_BIOMASS_Ec_iAF1260_core_59p81M': 1.0},\n",
       " {'eco_leu_BIOMASS_Ec_iAF1260_core_59p81M': 1.0}]"
      ]
     },
     "execution_count": 59,
     "metadata": {},
     "output_type": "execute_result"
    }
   ],
   "source": [
    "eco2.objectives"
   ]
  },
  {
   "cell_type": "code",
   "execution_count": 29,
   "metadata": {
    "ExecuteTime": {
     "end_time": "2023-04-11T19:52:20.392368Z",
     "start_time": "2023-04-11T19:52:20.377231Z"
    }
   },
   "outputs": [
    {
     "data": {
      "text/plain": [
       "'sim_glc_cons_AA_prod_no_AA'"
      ]
     },
     "execution_count": 29,
     "metadata": {},
     "output_type": "execute_result"
    }
   ],
   "source": [
    "case"
   ]
  },
  {
   "cell_type": "markdown",
   "metadata": {},
   "source": [
    "# Functional relationship analysis"
   ]
  },
  {
   "cell_type": "code",
   "execution_count": 30,
   "metadata": {
    "ExecuteTime": {
     "end_time": "2023-04-11T19:53:23.721017Z",
     "start_time": "2023-04-11T19:53:23.707908Z"
    }
   },
   "outputs": [],
   "source": [
    "def fraction_to_normalize(point_fractions, reaction):\n",
    "    #from point_fraction computes which element of this array should be used for normalization\n",
    "    #reaction: string reaction id\n",
    "    if reaction.startswith('org1_'):\n",
    "        fraction = point_fractions[0]\n",
    "    elif reaction.startswith('org2_'):\n",
    "        fraction = point_fractions[1]\n",
    "    else: \n",
    "        print('No org detected, asumming community reaction')\n",
    "        fraction =1\n",
    "        \n",
    "    return(fraction)\n",
    "    \n"
   ]
  },
  {
   "cell_type": "code",
   "execution_count": 35,
   "metadata": {
    "ExecuteTime": {
     "end_time": "2023-04-11T19:56:02.409100Z",
     "start_time": "2023-04-11T19:56:02.363559Z"
    }
   },
   "outputs": [
    {
     "name": "stdout",
     "output_type": "stream",
     "text": [
      "[0.2, 0.4]\n",
      "[[21.01896131 10.76973696]]\n",
      "1\n"
     ]
    },
    {
     "ename": "IndexError",
     "evalue": "index 1 is out of bounds for axis 0 with size 1",
     "output_type": "error",
     "traceback": [
      "\u001b[0;31m---------------------------------------------------------------------------\u001b[0m",
      "\u001b[0;31mIndexError\u001b[0m                                Traceback (most recent call last)",
      "Input \u001b[0;32mIn [35]\u001b[0m, in \u001b[0;36m<cell line: 5>\u001b[0;34m()\u001b[0m\n\u001b[1;32m     12\u001b[0m \u001b[38;5;28mprint\u001b[39m(min_index)\n\u001b[1;32m     13\u001b[0m analyze_points\u001b[38;5;241m.\u001b[39mappend(min_index)\n\u001b[0;32m---> 14\u001b[0m \u001b[38;5;28mprint\u001b[39m(\u001b[38;5;124mf\u001b[39m\u001b[38;5;124m\"\u001b[39m\u001b[38;5;124mthe closest point to \u001b[39m\u001b[38;5;132;01m{\u001b[39;00msearch_point\u001b[38;5;132;01m}\u001b[39;00m\u001b[38;5;124m is \u001b[39m\u001b[38;5;132;01m{\u001b[39;00mfeasible_points[min_index]\u001b[38;5;132;01m}\u001b[39;00m\u001b[38;5;124m, at a distance of \u001b[39m\u001b[38;5;132;01m{\u001b[39;00mdistances[min_index]\u001b[38;5;132;01m}\u001b[39;00m\u001b[38;5;124m\"\u001b[39m)\n",
      "\u001b[0;31mIndexError\u001b[0m: index 1 is out of bounds for axis 0 with size 1"
     ]
    }
   ],
   "source": [
    "grid_x = [0.2, 0.4, 0.6, 0.8]\n",
    "grid_y = reversed([0.1, 0.2, 0.4])\n",
    "feasible_points = eco2.points[eco2.feasible_points]\n",
    "analyze_points = []\n",
    "for y in grid_y:\n",
    "    for x in grid_x:\n",
    "        search_point = [x, y]\n",
    "        print(search_point)\n",
    "        distances = np.linalg.norm(feasible_points-search_point, axis=1)\n",
    "        print(distances)\n",
    "        min_index = np.argmin(distances)\n",
    "        print(min_index)\n",
    "        analyze_points.append(min_index)\n",
    "        print(f\"the closest point to {search_point} is {feasible_points[min_index]}, at a distance of {distances[min_index]}\")\n",
    "        \n",
    "        \n",
    "        \n",
    "        "
   ]
  },
  {
   "cell_type": "code",
   "execution_count": 37,
   "metadata": {
    "ExecuteTime": {
     "end_time": "2023-04-11T19:57:07.294727Z",
     "start_time": "2023-04-11T19:57:07.288796Z"
    }
   },
   "outputs": [],
   "source": [
    "eco2.feasible_points"
   ]
  },
  {
   "cell_type": "code",
   "execution_count": null,
   "metadata": {},
   "outputs": [],
   "source": [
    "import copy\n",
    "\n",
    "#select point (I'm going to do it relative to the clusters as before)\n",
    "#this_point = total_points[3] #relative to cluster\n",
    "rxns_analysis = ['eco_lys_EX_leu__L_e', 'eco_leu_EX_leu__L_e']\n",
    "print(rxns_analysis)\n",
    "\n",
    "\n",
    "maxmin_data = []\n",
    "for this_point in analyze_points:\n",
    "    model = copy.deepcopy(eco2)\n",
    "    feasible_points = model.points[model.feasible_points]\n",
    "    this_point_coords = feasible_points[this_point]\n",
    "    print('Selected point'+str(this_point_coords))\n",
    "    print('This point coords '+str(this_point_coords))\n",
    "    this_point_frac = [this_point_coords[0], 1-this_point_coords[0]]\n",
    "    print('This point frac '+str(this_point_frac))\n",
    "    point = [this_point_coords[0]*this_point_coords[1], (1-this_point_coords[0])*this_point_coords[1]] #equivalent to old grid\n",
    "    print('Old grid point '+str(point))\n",
    "\n",
    "    #update bounds\n",
    "    for i, member in enumerate(model.prefixes):\n",
    "        mfrac = this_point_frac[i]\n",
    "        mrxns = model.member_rxns[member]\n",
    "\n",
    "        for rid in mrxns:\n",
    "            r = model.cmodel.reactions.get_by_id(rid)\n",
    "            old_bounds = r.bounds\n",
    "            r.bounds = (old_bounds[0]*mfrac, old_bounds[1]*mfrac)\n",
    "\n",
    "    for ix, member_objectives in enumerate(model.objectives):\n",
    "        new_bounds = (point[ix], point[ix])\n",
    "\n",
    "        for rid in member_objectives.keys():\n",
    "            rxn = model.cmodel.reactions.get_by_id(rid)\n",
    "            rxn.bounds = new_bounds\n",
    "\n",
    "    try:\n",
    "        #define limits reactions based on theoretical max-min defined from model\n",
    "        rxn_ref_fva = flux_variability_analysis(model.cmodel, reaction_list = rxns_analysis[0])\n",
    "\n",
    "        #define range reactions\n",
    "        values_rxn_ref = np.linspace(rxn_ref_fva['minimum'][0], rxn_ref_fva['maximum'][0], num=50)\n",
    "        values_rmax = []\n",
    "        values_rmin = []\n",
    "\n",
    "        with model.cmodel as cmodel:\n",
    "            for val in values_rxn_ref:\n",
    "                rxn = cmodel.reactions.get_by_id(rxns_analysis[0])\n",
    "                rxn.bounds = (val,val)\n",
    "                #compute max min\n",
    "                fva = flux_variability_analysis(cmodel, reaction_list = rxns_analysis[1])\n",
    "                for i, el in enumerate(fva):\n",
    "                    row_dict = dict()\n",
    "                    row_dict[rxns_analysis[0]] = val/fraction_to_normalize(this_point_frac, rxns_analysis[0])\n",
    "                    row_dict[rxns_analysis[1]] = fva[el][0]/fraction_to_normalize(this_point_frac, rxns_analysis[1])\n",
    "                    row_dict['FVA'] = el\n",
    "                    row_dict['point'] = str([round(this_point_coords[0],3), round(this_point_coords[1],3)])\n",
    "                    maxmin_data.append(row_dict)\n",
    "                #store values \n",
    "                #values_rmax.append(fva['maximum'][0])\n",
    "                #values_rmin.append(fva['minimum'][0])\n",
    "\n",
    "    except:\n",
    "        print('\\n Issues with '+str(this_point_coords)+' unfeasible?')\n",
    "\n",
    "    #divide by f_i\n",
    "    #if rxns_analysis[1].startswith('wen'):\n",
    "    #    values_rmax = values_rmax/this_point_frac[0]\n",
    "    #    values_rmin = values_rmin/this_point_frac[0]\n",
    "    #    values_rxn_ref = values_rxn_ref/this_point_frac[0]\n",
    "    #elif rxns_analysis[1].startswith('cut'):\n",
    "    #    values_rxn_ref = values_rxn_ref/this_point_frac[1]\n",
    "    #    values_rmax = values_rmax/this_point_frac[1]\n",
    "    #    values_rmin = values_rmin/this_point_frac[1]\n",
    "\n",
    "\n"
   ]
  }
 ],
 "metadata": {
  "kernelspec": {
   "display_name": "Python 3 (ipykernel)",
   "language": "python",
   "name": "python3"
  },
  "language_info": {
   "codemirror_mode": {
    "name": "ipython",
    "version": 3
   },
   "file_extension": ".py",
   "mimetype": "text/x-python",
   "name": "python",
   "nbconvert_exporter": "python",
   "pygments_lexer": "ipython3",
   "version": "3.8.13"
  },
  "toc": {
   "base_numbering": 1,
   "nav_menu": {},
   "number_sections": true,
   "sideBar": true,
   "skip_h1_title": false,
   "title_cell": "Table of Contents",
   "title_sidebar": "Contents",
   "toc_cell": false,
   "toc_position": {},
   "toc_section_display": true,
   "toc_window_display": false
  }
 },
 "nbformat": 4,
 "nbformat_minor": 4
}
