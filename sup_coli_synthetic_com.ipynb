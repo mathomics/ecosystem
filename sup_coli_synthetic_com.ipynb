{
 "cells": [
  {
   "cell_type": "code",
   "execution_count": 1,
   "metadata": {
    "ExecuteTime": {
     "end_time": "2023-05-03T19:43:35.286551Z",
     "start_time": "2023-05-03T19:43:28.899535Z"
    }
   },
   "outputs": [],
   "source": [
    "import cobra\n",
    "import numpy as np\n",
    "import pandas as pd\n",
    "from cobra.flux_analysis import flux_variability_analysis\n",
    "from cobra.util.solver import linear_reaction_coefficients\n",
    "\n",
    "from full_ecosystem import Ecosystem\n",
    "from eco_utils import *\n",
    "from cobra import Metabolite, Reaction, Model\n",
    "from cobra.util.array import create_stoichiometric_matrix\n",
    "from cobra.util.solver import linear_reaction_coefficients\n",
    "from cobra.flux_analysis import flux_variability_analysis\n"
   ]
  },
  {
   "cell_type": "markdown",
   "metadata": {},
   "source": [
    "# _E. coli_ model load"
   ]
  },
  {
   "cell_type": "code",
   "execution_count": 2,
   "metadata": {
    "ExecuteTime": {
     "end_time": "2023-05-03T19:43:56.736306Z",
     "start_time": "2023-05-03T19:43:49.751634Z"
    },
    "scrolled": true
   },
   "outputs": [
    {
     "name": "stdout",
     "output_type": "stream",
     "text": [
      "Set parameter Username\n",
      "Academic license - for non-commercial use only - expires 2024-03-07\n"
     ]
    }
   ],
   "source": [
    "data_dir = ''\n",
    "model = cobra.io.read_sbml_model(\"%s%s\" % (data_dir, \"iAF1260.xml\"))"
   ]
  },
  {
   "cell_type": "code",
   "execution_count": 3,
   "metadata": {
    "ExecuteTime": {
     "end_time": "2023-05-03T19:43:57.135806Z",
     "start_time": "2023-05-03T19:43:57.121418Z"
    }
   },
   "outputs": [
    {
     "data": {
      "text/plain": [
       "'0.000223 10fthf_c + 0.000223 2ohph_c + 0.5137 ala__L_c + 0.000223 amet_c + 0.2958 arg__L_c + 0.2411 asn__L_c + 0.2411 asp__L_c + 59.984 atp_c + 0.004737 ca2_c + 0.004737 cl_c + 0.000576 coa_c + 0.003158 cobalt2_c + 0.1335 ctp_c + 0.003158 cu2_c + 0.09158 cys__L_c + 0.02617 datp_c + 0.02702 dctp_c + 0.02702 dgtp_c + 0.02617 dttp_c + 0.000223 fad_c + 0.007106 fe2_c + 0.007106 fe3_c + 0.2632 gln__L_c + 0.2632 glu__L_c + 0.6126 gly_c + 0.2151 gtp_c + 54.462 h2o_c + 0.09474 his__L_c + 0.2905 ile__L_c + 0.1776 k_c + 0.01945 kdo2lipid4_e + 0.4505 leu__L_c + 0.3432 lys__L_c + 0.1537 met__L_c + 0.007895 mg2_c + 0.000223 mlthf_c + 0.003158 mn2_c + 0.003158 mobd_c + 0.01389 murein5px4p_p + 0.001831 nad_c + 0.000447 nadp_c + 0.011843 nh4_c + 0.02233 pe160_c + 0.04148 pe160_p + 0.02632 pe161_c + 0.04889 pe161_p + 0.1759 phe__L_c + 0.000223 pheme_c + 0.2211 pro__L_c + 0.000223 pydx5p_c + 0.000223 ribflv_c + 0.2158 ser__L_c + 0.000223 sheme_c + 0.003948 so4_c + 0.000223 thf_c + 0.000223 thmpp_c + 0.2537 thr__L_c + 0.05684 trp__L_c + 0.1379 tyr__L_c + 5.5e-05 udcpdp_c + 0.1441 utp_c + 0.4232 val__L_c + 0.003158 zn2_c --> 59.81 adp_c + 59.81 h_c + 59.806 pi_c + 0.7739 ppi_c'"
      ]
     },
     "execution_count": 3,
     "metadata": {},
     "output_type": "execute_result"
    }
   ],
   "source": [
    "model.reactions.BIOMASS_Ec_iAF1260_core_59p81M.reaction"
   ]
  },
  {
   "cell_type": "markdown",
   "metadata": {},
   "source": [
    "# Construction of auxotrophic _E. coli_ models for 2 member community"
   ]
  },
  {
   "cell_type": "code",
   "execution_count": 4,
   "metadata": {
    "ExecuteTime": {
     "end_time": "2023-05-03T19:43:59.600176Z",
     "start_time": "2023-05-03T19:43:59.593644Z"
    }
   },
   "outputs": [],
   "source": [
    "exports = ['EX_leu__L_e','EX_lys__L_e'] "
   ]
  },
  {
   "cell_type": "markdown",
   "metadata": {},
   "source": [
    "## Modelos"
   ]
  },
  {
   "cell_type": "markdown",
   "metadata": {
    "ExecuteTime": {
     "end_time": "2020-08-05T16:43:55.012623Z",
     "start_time": "2020-08-05T16:43:55.009846Z"
    }
   },
   "source": [
    "### **ec_minus_lys**: "
   ]
  },
  {
   "cell_type": "markdown",
   "metadata": {},
   "source": [
    "_E. coli_ which requires to have lysine supplemented in media or by other member of the community"
   ]
  },
  {
   "cell_type": "code",
   "execution_count": 5,
   "metadata": {
    "ExecuteTime": {
     "end_time": "2023-05-03T19:44:08.840977Z",
     "start_time": "2023-05-03T19:44:02.248191Z"
    }
   },
   "outputs": [
    {
     "name": "stdout",
     "output_type": "stream",
     "text": [
      "Read LP format model from file /var/folders/fr/z1hdfpn55130hyr53bbb_1_40000gn/T/tmp1nw2bdu8.lp\n",
      "Reading time = 0.02 seconds\n",
      ": 1668 rows, 4764 columns, 18462 nonzeros\n"
     ]
    }
   ],
   "source": [
    "ec_minus_lys = model.copy()"
   ]
  },
  {
   "cell_type": "code",
   "execution_count": 6,
   "metadata": {
    "ExecuteTime": {
     "end_time": "2023-05-03T19:44:08.857534Z",
     "start_time": "2023-05-03T19:44:08.845270Z"
    },
    "scrolled": true
   },
   "outputs": [
    {
     "data": {
      "text/html": [
       "\n",
       "        <table>\n",
       "            <tr>\n",
       "                <td><strong>Reaction identifier</strong></td><td>DAPDC</td>\n",
       "            </tr><tr>\n",
       "                <td><strong>Name</strong></td><td>Diaminopimelate decarboxylase</td>\n",
       "            </tr><tr>\n",
       "                <td><strong>Memory address</strong></td>\n",
       "                <td>0x7fb7a7c3f9d0</td>\n",
       "            </tr><tr>\n",
       "                <td><strong>Stoichiometry</strong></td>\n",
       "                <td>\n",
       "                    <p style='text-align:right'>26dap__M_c + h_c --> co2_c + lys__L_c</p>\n",
       "                    <p style='text-align:right'>Meso-2,6-Diaminoheptanedioate + H+ --> CO2 CO2 + L-Lysine</p>\n",
       "                </td>\n",
       "            </tr><tr>\n",
       "                <td><strong>GPR</strong></td><td>b2838</td>\n",
       "            </tr><tr>\n",
       "                <td><strong>Lower bound</strong></td><td>0.0</td>\n",
       "            </tr><tr>\n",
       "                <td><strong>Upper bound</strong></td><td>999999.0</td>\n",
       "            </tr>\n",
       "        </table>\n",
       "        "
      ],
      "text/plain": [
       "<Reaction DAPDC at 0x7fb7a7c3f9d0>"
      ]
     },
     "execution_count": 6,
     "metadata": {},
     "output_type": "execute_result"
    }
   ],
   "source": [
    "ec_minus_lys.reactions.get_by_id('DAPDC')"
   ]
  },
  {
   "cell_type": "code",
   "execution_count": 7,
   "metadata": {
    "ExecuteTime": {
     "end_time": "2023-05-03T19:44:08.874596Z",
     "start_time": "2023-05-03T19:44:08.861893Z"
    }
   },
   "outputs": [],
   "source": [
    "ec_minus_lys_bound_modifications = {'DAPDC':(0,0),\n",
    "                            'EX_lys__L_e' : (-1000,1000),\n",
    "                                   } \n",
    "for rid in ec_minus_lys_bound_modifications:\n",
    "    r = ec_minus_lys.reactions.get_by_id(rid)\n",
    "    r.bounds = ec_minus_lys_bound_modifications[rid]"
   ]
  },
  {
   "cell_type": "markdown",
   "metadata": {},
   "source": [
    "Check lysine requirement"
   ]
  },
  {
   "cell_type": "code",
   "execution_count": 8,
   "metadata": {
    "ExecuteTime": {
     "end_time": "2023-05-03T19:44:08.991771Z",
     "start_time": "2023-05-03T19:44:08.880748Z"
    },
    "scrolled": true
   },
   "outputs": [
    {
     "data": {
      "text/plain": [
       "0.7678945589305766"
      ]
     },
     "execution_count": 8,
     "metadata": {},
     "output_type": "execute_result"
    }
   ],
   "source": [
    "ec_minus_lys.slim_optimize()"
   ]
  },
  {
   "cell_type": "code",
   "execution_count": 9,
   "metadata": {
    "ExecuteTime": {
     "end_time": "2023-05-03T19:44:34.431200Z",
     "start_time": "2023-05-03T19:44:09.843108Z"
    }
   },
   "outputs": [
    {
     "name": "stdout",
     "output_type": "stream",
     "text": [
      "Set parameter Username\n",
      "Academic license - for non-commercial use only - expires 2024-03-07\n",
      "Read LP format model from file /var/folders/fr/z1hdfpn55130hyr53bbb_1_40000gn/T/tmpjhfpphen.lp\n",
      "Reading time = 0.02 seconds\n",
      ": 1669 rows, 4765 columns, 18465 nonzeros\n",
      "Set parameter Username\n",
      "Academic license - for non-commercial use only - expires 2024-03-07\n",
      "Read LP format model from file /var/folders/fr/z1hdfpn55130hyr53bbb_1_40000gn/T/tmp9rdc8fq9.lp\n",
      "Reading time = 0.02 seconds\n",
      ": 1669 rows, 4765 columns, 18465 nonzeros\n",
      "Set parameter Username\n",
      "Academic license - for non-commercial use only - expires 2024-03-07\n",
      "Read LP format model from file /var/folders/fr/z1hdfpn55130hyr53bbb_1_40000gn/T/tmpp23jfnlk.lp\n",
      "Reading time = 0.05 seconds\n",
      ": 1669 rows, 4765 columns, 18465 nonzeros\n",
      "Set parameter Username\n",
      "Academic license - for non-commercial use only - expires 2024-03-07\n",
      "Read LP format model from file /var/folders/fr/z1hdfpn55130hyr53bbb_1_40000gn/T/tmps3l0qrng.lp\n",
      "Reading time = 0.02 seconds\n",
      ": 1669 rows, 4765 columns, 18465 nonzeros\n"
     ]
    },
    {
     "data": {
      "text/html": [
       "<div>\n",
       "<style scoped>\n",
       "    .dataframe tbody tr th:only-of-type {\n",
       "        vertical-align: middle;\n",
       "    }\n",
       "\n",
       "    .dataframe tbody tr th {\n",
       "        vertical-align: top;\n",
       "    }\n",
       "\n",
       "    .dataframe thead th {\n",
       "        text-align: right;\n",
       "    }\n",
       "</style>\n",
       "<table border=\"1\" class=\"dataframe\">\n",
       "  <thead>\n",
       "    <tr style=\"text-align: right;\">\n",
       "      <th></th>\n",
       "      <th>minimum</th>\n",
       "      <th>maximum</th>\n",
       "    </tr>\n",
       "  </thead>\n",
       "  <tbody>\n",
       "    <tr>\n",
       "      <th>EX_leu__L_e</th>\n",
       "      <td>0.0</td>\n",
       "      <td>5.461462</td>\n",
       "    </tr>\n",
       "    <tr>\n",
       "      <th>EX_lys__L_e</th>\n",
       "      <td>-1000.0</td>\n",
       "      <td>-0.026354</td>\n",
       "    </tr>\n",
       "  </tbody>\n",
       "</table>\n",
       "</div>"
      ],
      "text/plain": [
       "             minimum   maximum\n",
       "EX_leu__L_e      0.0  5.461462\n",
       "EX_lys__L_e  -1000.0 -0.026354"
      ]
     },
     "execution_count": 9,
     "metadata": {},
     "output_type": "execute_result"
    }
   ],
   "source": [
    "flux_variability_analysis(ec_minus_lys, exports, fraction_of_optimum=0.1)"
   ]
  },
  {
   "cell_type": "markdown",
   "metadata": {},
   "source": [
    "### **ec_minus_leu**:\n"
   ]
  },
  {
   "cell_type": "markdown",
   "metadata": {},
   "source": [
    "_E. coli_ requires Leucine due to knockout on IPPS (2-isopropylmalate synthase) reaction"
   ]
  },
  {
   "cell_type": "code",
   "execution_count": 10,
   "metadata": {
    "ExecuteTime": {
     "end_time": "2023-05-03T19:44:41.724319Z",
     "start_time": "2023-05-03T19:44:34.440302Z"
    }
   },
   "outputs": [
    {
     "name": "stdout",
     "output_type": "stream",
     "text": [
      "Read LP format model from file /var/folders/fr/z1hdfpn55130hyr53bbb_1_40000gn/T/tmpkemrh4ra.lp\n",
      "Reading time = 0.02 seconds\n",
      ": 1668 rows, 4764 columns, 18462 nonzeros\n"
     ]
    }
   ],
   "source": [
    "ec_minus_leu = model.copy()"
   ]
  },
  {
   "cell_type": "code",
   "execution_count": 11,
   "metadata": {
    "ExecuteTime": {
     "end_time": "2023-05-03T19:44:41.739561Z",
     "start_time": "2023-05-03T19:44:41.730154Z"
    }
   },
   "outputs": [
    {
     "data": {
      "text/html": [
       "\n",
       "        <table>\n",
       "            <tr>\n",
       "                <td><strong>Reaction identifier</strong></td><td>IPPS</td>\n",
       "            </tr><tr>\n",
       "                <td><strong>Name</strong></td><td>2-isopropylmalate synthase</td>\n",
       "            </tr><tr>\n",
       "                <td><strong>Memory address</strong></td>\n",
       "                <td>0x7fb7aa5c1dc0</td>\n",
       "            </tr><tr>\n",
       "                <td><strong>Stoichiometry</strong></td>\n",
       "                <td>\n",
       "                    <p style='text-align:right'>3mob_c + accoa_c + h2o_c --> 3c3hmp_c + coa_c + h_c</p>\n",
       "                    <p style='text-align:right'>3-Methyl-2-oxobutanoate + Acetyl-CoA + H2O H2O --> 3-Carboxy-3-hydroxy-4-methylpentanoate + Coenzyme A + H+</p>\n",
       "                </td>\n",
       "            </tr><tr>\n",
       "                <td><strong>GPR</strong></td><td>b0074</td>\n",
       "            </tr><tr>\n",
       "                <td><strong>Lower bound</strong></td><td>0.0</td>\n",
       "            </tr><tr>\n",
       "                <td><strong>Upper bound</strong></td><td>999999.0</td>\n",
       "            </tr>\n",
       "        </table>\n",
       "        "
      ],
      "text/plain": [
       "<Reaction IPPS at 0x7fb7aa5c1dc0>"
      ]
     },
     "execution_count": 11,
     "metadata": {},
     "output_type": "execute_result"
    }
   ],
   "source": [
    "ec_minus_leu.reactions.get_by_id('IPPS')"
   ]
  },
  {
   "cell_type": "code",
   "execution_count": 12,
   "metadata": {
    "ExecuteTime": {
     "end_time": "2023-05-03T19:44:41.760181Z",
     "start_time": "2023-05-03T19:44:41.751442Z"
    }
   },
   "outputs": [],
   "source": [
    "ec_minus_leu_bound_modifications = {'IPPS':(0,0),\n",
    "                            'EX_leu__L_e' : (-1000,1000),\n",
    "                                   } \n",
    "for rid in ec_minus_leu_bound_modifications:\n",
    "    r = ec_minus_leu.reactions.get_by_id(rid)\n",
    "    r.bounds = ec_minus_leu_bound_modifications[rid]"
   ]
  },
  {
   "cell_type": "markdown",
   "metadata": {},
   "source": [
    "Check leucine requirement"
   ]
  },
  {
   "cell_type": "code",
   "execution_count": 13,
   "metadata": {
    "ExecuteTime": {
     "end_time": "2023-05-03T19:44:41.893922Z",
     "start_time": "2023-05-03T19:44:41.771261Z"
    }
   },
   "outputs": [
    {
     "data": {
      "text/plain": [
       "0.7763435343183095"
      ]
     },
     "execution_count": 13,
     "metadata": {},
     "output_type": "execute_result"
    }
   ],
   "source": [
    "ec_minus_leu.slim_optimize()"
   ]
  },
  {
   "cell_type": "code",
   "execution_count": 14,
   "metadata": {
    "ExecuteTime": {
     "end_time": "2023-05-03T19:45:05.130344Z",
     "start_time": "2023-05-03T19:44:41.899823Z"
    }
   },
   "outputs": [
    {
     "name": "stdout",
     "output_type": "stream",
     "text": [
      "Set parameter Username\n",
      "Academic license - for non-commercial use only - expires 2024-03-07\n",
      "Read LP format model from file /var/folders/fr/z1hdfpn55130hyr53bbb_1_40000gn/T/tmp60c98p3b.lp\n",
      "Reading time = 0.03 seconds\n",
      ": 1669 rows, 4765 columns, 18465 nonzeros\n",
      "Set parameter Username\n",
      "Academic license - for non-commercial use only - expires 2024-03-07\n",
      "Read LP format model from file /var/folders/fr/z1hdfpn55130hyr53bbb_1_40000gn/T/tmpcdt49ifb.lp\n",
      "Reading time = 0.02 seconds\n",
      ": 1669 rows, 4765 columns, 18465 nonzeros\n",
      "Set parameter Username\n",
      "Academic license - for non-commercial use only - expires 2024-03-07\n",
      "Read LP format model from file /var/folders/fr/z1hdfpn55130hyr53bbb_1_40000gn/T/tmpuiqel_j4.lp\n",
      "Reading time = 0.02 seconds\n",
      ": 1669 rows, 4765 columns, 18465 nonzeros\n",
      "Set parameter Username\n",
      "Academic license - for non-commercial use only - expires 2024-03-07\n",
      "Read LP format model from file /var/folders/fr/z1hdfpn55130hyr53bbb_1_40000gn/T/tmpp83l3j35.lp\n",
      "Reading time = 0.02 seconds\n",
      ": 1669 rows, 4765 columns, 18465 nonzeros\n"
     ]
    },
    {
     "data": {
      "text/html": [
       "<div>\n",
       "<style scoped>\n",
       "    .dataframe tbody tr th:only-of-type {\n",
       "        vertical-align: middle;\n",
       "    }\n",
       "\n",
       "    .dataframe tbody tr th {\n",
       "        vertical-align: top;\n",
       "    }\n",
       "\n",
       "    .dataframe thead th {\n",
       "        text-align: right;\n",
       "    }\n",
       "</style>\n",
       "<table border=\"1\" class=\"dataframe\">\n",
       "  <thead>\n",
       "    <tr style=\"text-align: right;\">\n",
       "      <th></th>\n",
       "      <th>minimum</th>\n",
       "      <th>maximum</th>\n",
       "    </tr>\n",
       "  </thead>\n",
       "  <tbody>\n",
       "    <tr>\n",
       "      <th>EX_leu__L_e</th>\n",
       "      <td>-0.349743</td>\n",
       "      <td>-0.034974</td>\n",
       "    </tr>\n",
       "    <tr>\n",
       "      <th>EX_lys__L_e</th>\n",
       "      <td>0.000000</td>\n",
       "      <td>5.492299</td>\n",
       "    </tr>\n",
       "  </tbody>\n",
       "</table>\n",
       "</div>"
      ],
      "text/plain": [
       "              minimum   maximum\n",
       "EX_leu__L_e -0.349743 -0.034974\n",
       "EX_lys__L_e  0.000000  5.492299"
      ]
     },
     "execution_count": 14,
     "metadata": {},
     "output_type": "execute_result"
    }
   ],
   "source": [
    "flux_variability_analysis(ec_minus_leu, exports, fraction_of_optimum=0.1)"
   ]
  },
  {
   "cell_type": "markdown",
   "metadata": {},
   "source": [
    "## Store individual models and generate ecosystem object"
   ]
  },
  {
   "cell_type": "code",
   "execution_count": 15,
   "metadata": {
    "ExecuteTime": {
     "end_time": "2023-05-03T19:45:14.568984Z",
     "start_time": "2023-05-03T19:45:05.135357Z"
    }
   },
   "outputs": [
    {
     "name": "stdout",
     "output_type": "stream",
     "text": [
      "model ec_minus_lys stored\n",
      "model ec_minus_leu stored\n"
     ]
    }
   ],
   "source": [
    "member_models = { 'ec_minus_lys':ec_minus_lys,\n",
    "                  'ec_minus_leu':ec_minus_leu         \n",
    "                 }\n",
    "\n",
    "for model_id in member_models:\n",
    "    filename = \"%s.xml\" % (model_id)\n",
    "    member_model = member_models[model_id]\n",
    "    cobra.io.write_sbml_model(member_model, filename)\n",
    "    print('model %s stored' % model_id)"
   ]
  },
  {
   "cell_type": "code",
   "execution_count": 16,
   "metadata": {
    "ExecuteTime": {
     "end_time": "2023-05-03T19:45:14.579400Z",
     "start_time": "2023-05-03T19:45:14.573212Z"
    }
   },
   "outputs": [],
   "source": [
    "member_models = [ec_minus_lys, ec_minus_leu]"
   ]
  },
  {
   "cell_type": "code",
   "execution_count": 17,
   "metadata": {
    "ExecuteTime": {
     "end_time": "2023-05-03T19:46:05.376368Z",
     "start_time": "2023-05-03T19:45:14.588820Z"
    }
   },
   "outputs": [
    {
     "name": "stdout",
     "output_type": "stream",
     "text": [
      "0. Copying member models ...\n",
      "Read LP format model from file /var/folders/fr/z1hdfpn55130hyr53bbb_1_40000gn/T/tmpran993mw.lp\n",
      "Reading time = 0.02 seconds\n",
      ": 1668 rows, 4764 columns, 18462 nonzeros\n",
      "Read LP format model from file /var/folders/fr/z1hdfpn55130hyr53bbb_1_40000gn/T/tmpb4vqw2w8.lp\n",
      "Reading time = 0.02 seconds\n",
      ": 1668 rows, 4764 columns, 18462 nonzeros\n",
      "1. Storing exchanged metabolites information ...\n",
      "2. Updating member model objects ids ...\n",
      "3. Storing member objectives ...\n",
      "4. Merging member models ...\n",
      "{'eco_lys_BIOMASS_Ec_iAF1260_core_59p81M': 1.0}\n",
      "{'eco_leu_BIOMASS_Ec_iAF1260_core_59p81M': 1.0}\n",
      "5. Creating pool compartment, metabolites and reactions ...\n",
      "6. Updating compartment names ...\n",
      "Done. Community model created\n",
      "Created community model from 2 member models:\n",
      "General stats:\n",
      "model (0):\n",
      "\t id = iAF1260, name =  , prefix= eco_lys\n",
      "\t\t reactions = 2382\n",
      "\t\t exchange metabolites = 304\n",
      "\t\t compartments = 3\n",
      "model (1):\n",
      "\t id = iAF1260, name =  , prefix= eco_leu\n",
      "\t\t reactions = 2382\n",
      "\t\t exchange metabolites = 304\n",
      "\t\t compartments = 3\n",
      "community model:\n",
      "\t id = eco2, name = eco2 \n",
      "\t\t reactions = 5068\n",
      "\t\t exchange metabolites = 304\n",
      "\t\t compartments = 7\n",
      "Exchange metabolite conflicts (formula, charge, name, id) = 0\n",
      "Community exchange reaction bounds: (-1000, 1000)\n"
     ]
    }
   ],
   "source": [
    "eco2 = Ecosystem(models = member_models, prefixes=['eco_lys', 'eco_leu'], \n",
    "                     community_name = 'eco2', community_id = 'eco2', solver='gurobi')"
   ]
  },
  {
   "cell_type": "markdown",
   "metadata": {},
   "source": [
    "### Set bounds simulation"
   ]
  },
  {
   "cell_type": "markdown",
   "metadata": {},
   "source": [
    "From Zhang et al., (2014), uptake of single cultured strains (Table 1):\n",
    "- dlysA: 0.161 mmol/gDW/h\n",
    "- dleuA: 0.220 mmol/gDW/h\n",
    "\n",
    "Table S1: glc uptake rate by the community: 6.025 mmol/gDW/h.\n",
    "\n",
    "Scenarios defined in this work:\n",
    "- sim_glc_cons_AA_prod_no_AA: constrained glucose entry (-10), as well as biological constraint of 10. No leucine or lysine supplementation\n",
    "- sim_glc_cons_AA_prod_001_AA: same conditions of previous scenario but supplementation of 0.01 of leucine and lysine"
   ]
  },
  {
   "cell_type": "code",
   "execution_count": 23,
   "metadata": {
    "ExecuteTime": {
     "end_time": "2023-04-11T19:52:00.591935Z",
     "start_time": "2023-04-11T19:52:00.577483Z"
    }
   },
   "outputs": [],
   "source": [
    "case = 'sim_glc_cons_AA_prod_no_AA'\n",
    "eco2.set_pool_bounds({'glc__D_e':(-10,1000)}, bioCons = -10)\n",
    "eco2.set_pool_bounds({'lys__L_e':(0,1000)}, bioCons = -0.161)\n",
    "eco2.set_pool_bounds({'leu__L_e':(0,1000)}, bioCons = -0.22)\n",
    "eco2.set_pool_bounds({'o2_e':(-15,1000)}, bioCons = -15)\n",
    "\n",
    "eco2.cmodel.reactions.eco_leu_EX_lys__L_e.upper_bound = 0.2\n",
    "eco2.cmodel.reactions.eco_lys_EX_leu__L_e.upper_bound = 0.2"
   ]
  },
  {
   "cell_type": "raw",
   "metadata": {
    "ExecuteTime": {
     "end_time": "2023-03-29T16:42:22.778133Z",
     "start_time": "2023-03-29T16:42:22.745692Z"
    }
   },
   "source": [
    "case = 'sim_glc_cons_AA_prod_001_AA'\n",
    "eco2.set_pool_bounds({'glc__D_e':(-10,1000)}, bioCons = -10)\n",
    "eco2.set_pool_bounds({'lys__L_e':(-0.01,1000)}, bioCons = -0.161)\n",
    "eco2.set_pool_bounds({'leu__L_e':(-0.01,1000)}, bioCons = -0.22)\n",
    "eco2.set_pool_bounds({'o2_e':(-15,1000)}, bioCons = -15)\n",
    "\n",
    "eco2.cmodel.reactions.eco_leu_EX_lys__L_e.upper_bound = 0.2\n",
    "eco2.cmodel.reactions.eco_lys_EX_leu__L_e.upper_bound = 0.2"
   ]
  },
  {
   "cell_type": "code",
   "execution_count": 18,
   "metadata": {
    "ExecuteTime": {
     "end_time": "2023-05-03T19:46:40.926075Z",
     "start_time": "2023-05-03T19:46:40.381414Z"
    }
   },
   "outputs": [
    {
     "data": {
      "text/html": [
       "<strong><em>Optimal</em> solution with objective value 1.544</strong><br><div>\n",
       "<style scoped>\n",
       "    .dataframe tbody tr th:only-of-type {\n",
       "        vertical-align: middle;\n",
       "    }\n",
       "\n",
       "    .dataframe tbody tr th {\n",
       "        vertical-align: top;\n",
       "    }\n",
       "\n",
       "    .dataframe thead th {\n",
       "        text-align: right;\n",
       "    }\n",
       "</style>\n",
       "<table border=\"1\" class=\"dataframe\">\n",
       "  <thead>\n",
       "    <tr style=\"text-align: right;\">\n",
       "      <th></th>\n",
       "      <th>fluxes</th>\n",
       "      <th>reduced_costs</th>\n",
       "    </tr>\n",
       "  </thead>\n",
       "  <tbody>\n",
       "    <tr>\n",
       "      <th>eco_lys_ACGAM1PPpp</th>\n",
       "      <td>0.000000</td>\n",
       "      <td>0.00000</td>\n",
       "    </tr>\n",
       "    <tr>\n",
       "      <th>eco_lys_2AGPA140tipp</th>\n",
       "      <td>0.000000</td>\n",
       "      <td>0.00000</td>\n",
       "    </tr>\n",
       "    <tr>\n",
       "      <th>eco_lys_EX_acser_e</th>\n",
       "      <td>0.000000</td>\n",
       "      <td>-0.15265</td>\n",
       "    </tr>\n",
       "    <tr>\n",
       "      <th>eco_lys_2AGPA141tipp</th>\n",
       "      <td>0.000000</td>\n",
       "      <td>0.00000</td>\n",
       "    </tr>\n",
       "    <tr>\n",
       "      <th>eco_lys_2AGPA160tipp</th>\n",
       "      <td>0.000000</td>\n",
       "      <td>0.00000</td>\n",
       "    </tr>\n",
       "    <tr>\n",
       "      <th>...</th>\n",
       "      <td>...</td>\n",
       "      <td>...</td>\n",
       "    </tr>\n",
       "    <tr>\n",
       "      <th>EX_lys__L_e</th>\n",
       "      <td>-7.052618</td>\n",
       "      <td>0.00000</td>\n",
       "    </tr>\n",
       "    <tr>\n",
       "      <th>EX_lyx__L_e</th>\n",
       "      <td>0.000000</td>\n",
       "      <td>0.00000</td>\n",
       "    </tr>\n",
       "    <tr>\n",
       "      <th>EX_mal__D_e</th>\n",
       "      <td>0.000000</td>\n",
       "      <td>0.00000</td>\n",
       "    </tr>\n",
       "    <tr>\n",
       "      <th>EX_mal__L_e</th>\n",
       "      <td>0.000000</td>\n",
       "      <td>0.00000</td>\n",
       "    </tr>\n",
       "    <tr>\n",
       "      <th>EX_malt_e</th>\n",
       "      <td>0.000000</td>\n",
       "      <td>0.00000</td>\n",
       "    </tr>\n",
       "  </tbody>\n",
       "</table>\n",
       "<p>5068 rows × 2 columns</p>\n",
       "</div>"
      ],
      "text/plain": [
       "<Solution 1.544 at 0x7fb7a96cd7c0>"
      ]
     },
     "execution_count": 18,
     "metadata": {},
     "output_type": "execute_result"
    }
   ],
   "source": [
    "eco2.cmodel.optimize()"
   ]
  },
  {
   "cell_type": "code",
   "execution_count": 19,
   "metadata": {
    "ExecuteTime": {
     "end_time": "2023-05-03T19:46:42.395715Z",
     "start_time": "2023-05-03T19:46:41.752258Z"
    }
   },
   "outputs": [
    {
     "data": {
      "text/html": [
       "<h3>Objective</h3><p>1.0 eco_lys_BIOMASS_Ec_iAF1260_core_59p81M + 1.0 eco_leu_BIOMASS_Ec_iAF1260_core_59p81M = 1.5442380932488902</p><h4>Uptake</h4><table border=\"1\" class=\"dataframe\">\n",
       "  <thead>\n",
       "    <tr style=\"text-align: right;\">\n",
       "      <th>Metabolite</th>\n",
       "      <th>Reaction</th>\n",
       "      <th>Flux</th>\n",
       "      <th>C-Number</th>\n",
       "      <th>C-Flux</th>\n",
       "    </tr>\n",
       "  </thead>\n",
       "  <tbody>\n",
       "    <tr>\n",
       "      <td>ca2_e_pool</td>\n",
       "      <td>EX_ca2_e</td>\n",
       "      <td>0.007315</td>\n",
       "      <td>0</td>\n",
       "      <td>0.00%</td>\n",
       "    </tr>\n",
       "    <tr>\n",
       "      <td>cl_e_pool</td>\n",
       "      <td>EX_cl_e</td>\n",
       "      <td>0.007315</td>\n",
       "      <td>0</td>\n",
       "      <td>0.00%</td>\n",
       "    </tr>\n",
       "    <tr>\n",
       "      <td>cobalt2_e_pool</td>\n",
       "      <td>EX_cobalt2_e</td>\n",
       "      <td>0.004877</td>\n",
       "      <td>0</td>\n",
       "      <td>0.00%</td>\n",
       "    </tr>\n",
       "    <tr>\n",
       "      <td>cu2_e_pool</td>\n",
       "      <td>EX_cu2_e</td>\n",
       "      <td>0.004877</td>\n",
       "      <td>0</td>\n",
       "      <td>0.00%</td>\n",
       "    </tr>\n",
       "    <tr>\n",
       "      <td>fe2_e_pool</td>\n",
       "      <td>EX_fe2_e</td>\n",
       "      <td>0.02264</td>\n",
       "      <td>0</td>\n",
       "      <td>0.00%</td>\n",
       "    </tr>\n",
       "    <tr>\n",
       "      <td>glc__D_e_pool</td>\n",
       "      <td>EX_glc__D_e</td>\n",
       "      <td>16</td>\n",
       "      <td>6</td>\n",
       "      <td>96.31%</td>\n",
       "    </tr>\n",
       "    <tr>\n",
       "      <td>k_e_pool</td>\n",
       "      <td>EX_k_e</td>\n",
       "      <td>0.2743</td>\n",
       "      <td>0</td>\n",
       "      <td>0.00%</td>\n",
       "    </tr>\n",
       "    <tr>\n",
       "      <td>leu__L_e_pool</td>\n",
       "      <td>EX_leu__L_e</td>\n",
       "      <td>0.3497</td>\n",
       "      <td>6</td>\n",
       "      <td>2.11%</td>\n",
       "    </tr>\n",
       "    <tr>\n",
       "      <td>lys__L_e_pool</td>\n",
       "      <td>EX_lys__L_e</td>\n",
       "      <td>0.2635</td>\n",
       "      <td>6</td>\n",
       "      <td>1.59%</td>\n",
       "    </tr>\n",
       "    <tr>\n",
       "      <td>mg2_e_pool</td>\n",
       "      <td>EX_mg2_e</td>\n",
       "      <td>0.01219</td>\n",
       "      <td>0</td>\n",
       "      <td>0.00%</td>\n",
       "    </tr>\n",
       "    <tr>\n",
       "      <td>mn2_e_pool</td>\n",
       "      <td>EX_mn2_e</td>\n",
       "      <td>0.004877</td>\n",
       "      <td>0</td>\n",
       "      <td>0.00%</td>\n",
       "    </tr>\n",
       "    <tr>\n",
       "      <td>mobd_e_pool</td>\n",
       "      <td>EX_mobd_e</td>\n",
       "      <td>0.004877</td>\n",
       "      <td>0</td>\n",
       "      <td>0.00%</td>\n",
       "    </tr>\n",
       "    <tr>\n",
       "      <td>nh4_e_pool</td>\n",
       "      <td>EX_nh4_e</td>\n",
       "      <td>15.78</td>\n",
       "      <td>0</td>\n",
       "      <td>0.00%</td>\n",
       "    </tr>\n",
       "    <tr>\n",
       "      <td>o2_e_pool</td>\n",
       "      <td>EX_o2_e</td>\n",
       "      <td>33.95</td>\n",
       "      <td>0</td>\n",
       "      <td>0.00%</td>\n",
       "    </tr>\n",
       "    <tr>\n",
       "      <td>pi_e_pool</td>\n",
       "      <td>EX_pi_e</td>\n",
       "      <td>1.485</td>\n",
       "      <td>0</td>\n",
       "      <td>0.00%</td>\n",
       "    </tr>\n",
       "    <tr>\n",
       "      <td>so4_e_pool</td>\n",
       "      <td>EX_so4_e</td>\n",
       "      <td>0.3864</td>\n",
       "      <td>0</td>\n",
       "      <td>0.00%</td>\n",
       "    </tr>\n",
       "    <tr>\n",
       "      <td>zn2_e_pool</td>\n",
       "      <td>EX_zn2_e</td>\n",
       "      <td>0.004877</td>\n",
       "      <td>0</td>\n",
       "      <td>0.00%</td>\n",
       "    </tr>\n",
       "  </tbody>\n",
       "</table><h4>Secretion</h4><table border=\"1\" class=\"dataframe\">\n",
       "  <thead>\n",
       "    <tr style=\"text-align: right;\">\n",
       "      <th>Metabolite</th>\n",
       "      <th>Reaction</th>\n",
       "      <th>Flux</th>\n",
       "      <th>C-Number</th>\n",
       "      <th>C-Flux</th>\n",
       "    </tr>\n",
       "  </thead>\n",
       "  <tbody>\n",
       "    <tr>\n",
       "      <td>4hba_c_pool</td>\n",
       "      <td>EX_4hba_c</td>\n",
       "      <td>-0.0003444</td>\n",
       "      <td>7</td>\n",
       "      <td>0.01%</td>\n",
       "    </tr>\n",
       "    <tr>\n",
       "      <td>co2_e_pool</td>\n",
       "      <td>EX_co2_e</td>\n",
       "      <td>-36.44</td>\n",
       "      <td>1</td>\n",
       "      <td>99.98%</td>\n",
       "    </tr>\n",
       "    <tr>\n",
       "      <td>h2o_e_pool</td>\n",
       "      <td>EX_h2o_e</td>\n",
       "      <td>-76.25</td>\n",
       "      <td>0</td>\n",
       "      <td>0.00%</td>\n",
       "    </tr>\n",
       "    <tr>\n",
       "      <td>h_e_pool</td>\n",
       "      <td>EX_h_e</td>\n",
       "      <td>-13.56</td>\n",
       "      <td>0</td>\n",
       "      <td>0.00%</td>\n",
       "    </tr>\n",
       "    <tr>\n",
       "      <td>hmfurn_c_pool</td>\n",
       "      <td>EX_hmfurn_c</td>\n",
       "      <td>-0.0006887</td>\n",
       "      <td>5</td>\n",
       "      <td>0.01%</td>\n",
       "    </tr>\n",
       "  </tbody>\n",
       "</table>"
      ],
      "text/plain": [
       "<cobra.summary.model_summary.ModelSummary at 0x7fb7a96cd640>"
      ]
     },
     "execution_count": 19,
     "metadata": {},
     "output_type": "execute_result"
    }
   ],
   "source": [
    "eco2.cmodel.summary()"
   ]
  },
  {
   "cell_type": "code",
   "execution_count": 20,
   "metadata": {
    "ExecuteTime": {
     "end_time": "2023-05-03T19:48:21.717379Z",
     "start_time": "2023-05-03T19:46:42.922914Z"
    }
   },
   "outputs": [
    {
     "name": "stdout",
     "output_type": "stream",
     "text": [
      "Missing FCA results\n",
      "Using non-blocked reactions only\n",
      "Set parameter Username\n",
      "Academic license - for non-commercial use only - expires 2024-03-07\n",
      "Read LP format model from file /var/folders/fr/z1hdfpn55130hyr53bbb_1_40000gn/T/tmpn4z7i8c4.lp\n",
      "Reading time = 0.04 seconds\n",
      ": 3641 rows, 10137 columns, 38753 nonzeros\n",
      "Set parameter Username\n",
      "Academic license - for non-commercial use only - expires 2024-03-07\n",
      "Read LP format model from file /var/folders/fr/z1hdfpn55130hyr53bbb_1_40000gn/T/tmpkecd2i8e.lp\n",
      "Reading time = 0.07 seconds\n",
      ": 3641 rows, 10137 columns, 38753 nonzeros\n",
      "Set parameter Username\n",
      "Academic license - for non-commercial use only - expires 2024-03-07\n",
      "Read LP format model from file /var/folders/fr/z1hdfpn55130hyr53bbb_1_40000gn/T/tmp2mx398hp.lp\n",
      "Reading time = 0.07 seconds\n",
      ": 3641 rows, 10137 columns, 38753 nonzeros\n",
      "Set parameter Username\n",
      "Academic license - for non-commercial use only - expires 2024-03-07\n",
      "Read LP format model from file /var/folders/fr/z1hdfpn55130hyr53bbb_1_40000gn/T/tmpfui6uo3g.lp\n",
      "Reading time = 0.05 seconds\n",
      ": 3641 rows, 10137 columns, 38753 nonzeros\n",
      "Set parameter Username\n",
      "Academic license - for non-commercial use only - expires 2024-03-07\n",
      "Read LP format model from file /var/folders/fr/z1hdfpn55130hyr53bbb_1_40000gn/T/tmpet1vb1vs.lp\n",
      "Reading time = 0.04 seconds\n",
      ": 3641 rows, 10137 columns, 38753 nonzeros\n",
      "Set parameter Username\n",
      "Academic license - for non-commercial use only - expires 2024-03-07\n",
      "Read LP format model from file /var/folders/fr/z1hdfpn55130hyr53bbb_1_40000gn/T/tmp_x8rfm0u.lp\n",
      "Reading time = 0.05 seconds\n",
      ": 3641 rows, 10137 columns, 38753 nonzeros\n",
      "Total reactions considered for fva and clustering: 3159\n"
     ]
    }
   ],
   "source": [
    "eco2.set_cluster_reactions()"
   ]
  },
  {
   "cell_type": "markdown",
   "metadata": {},
   "source": [
    "### Compute grid"
   ]
  },
  {
   "cell_type": "code",
   "execution_count": 21,
   "metadata": {
    "ExecuteTime": {
     "end_time": "2023-05-03T19:48:22.283142Z",
     "start_time": "2023-05-03T19:48:21.726644Z"
    }
   },
   "outputs": [
    {
     "ename": "TypeError",
     "evalue": "build_grid() got an unexpected keyword argument 'ignore_maint'",
     "output_type": "error",
     "traceback": [
      "\u001b[0;31m---------------------------------------------------------------------------\u001b[0m",
      "\u001b[0;31mTypeError\u001b[0m                                 Traceback (most recent call last)",
      "Input \u001b[0;32mIn [21]\u001b[0m, in \u001b[0;36m<cell line: 1>\u001b[0;34m()\u001b[0m\n\u001b[0;32m----> 1\u001b[0m \u001b[43meco2\u001b[49m\u001b[38;5;241;43m.\u001b[39;49m\u001b[43mbuild_grid\u001b[49m\u001b[43m(\u001b[49m\u001b[43mnumPoints\u001b[49m\u001b[43m \u001b[49m\u001b[38;5;241;43m=\u001b[39;49m\u001b[43m \u001b[49m\u001b[38;5;241;43m50\u001b[39;49m\u001b[43m,\u001b[49m\u001b[43m \u001b[49m\u001b[43mexpand\u001b[49m\u001b[43m \u001b[49m\u001b[38;5;241;43m=\u001b[39;49m\u001b[43m \u001b[49m\u001b[38;5;28;43;01mTrue\u001b[39;49;00m\u001b[43m,\u001b[49m\u001b[43m \u001b[49m\u001b[43mdrop_zero\u001b[49m\u001b[38;5;241;43m=\u001b[39;49m\u001b[38;5;28;43;01mTrue\u001b[39;49;00m\u001b[43m,\u001b[49m\u001b[43m \u001b[49m\u001b[43mignore_maint\u001b[49m\u001b[43m \u001b[49m\u001b[38;5;241;43m=\u001b[39;49m\u001b[43m \u001b[49m\u001b[38;5;28;43;01mTrue\u001b[39;49;00m\u001b[43m)\u001b[49m\n",
      "\u001b[0;31mTypeError\u001b[0m: build_grid() got an unexpected keyword argument 'ignore_maint'"
     ]
    }
   ],
   "source": [
    "eco2.build_grid(numPoints = 50, expand = True, drop_zero=True, ignore_maint = True)"
   ]
  },
  {
   "cell_type": "code",
   "execution_count": null,
   "metadata": {
    "ExecuteTime": {
     "end_time": "2023-05-03T19:48:22.287399Z",
     "start_time": "2023-05-03T19:48:22.287376Z"
    }
   },
   "outputs": [],
   "source": [
    "eco2.get_member_reactions()\n",
    "eco2.get_points_distribution()"
   ]
  },
  {
   "cell_type": "code",
   "execution_count": null,
   "metadata": {
    "ExecuteTime": {
     "end_time": "2023-05-03T19:48:22.289730Z",
     "start_time": "2023-05-03T19:48:22.289705Z"
    },
    "scrolled": true
   },
   "outputs": [],
   "source": [
    "import matplotlib.pyplot as plt\n",
    "plt.rcParams.update({'font.size': 30})\n",
    "\n",
    "eco2.plot_2D_slice(prefixes=[], fixed_values=[], parent_cmap='tab20',s=60, figsize=(11,12), \n",
    "                         to_plot = None, show_edge=False,frac_prefix= None,\n",
    "                            xlabel = '$f_{org1}$',\n",
    "                            ylabel ='$\\mu_{com}[h^{-1}]$', saveFile = 'grid')"
   ]
  },
  {
   "cell_type": "code",
   "execution_count": 58,
   "metadata": {
    "ExecuteTime": {
     "end_time": "2023-03-28T13:53:02.697017Z",
     "start_time": "2023-03-28T13:50:53.508661Z"
    }
   },
   "outputs": [
    {
     "name": "stdout",
     "output_type": "stream",
     "text": [
      "[0.11111111 0.        ]\n",
      "updating reaction bounds ...\n",
      "[0.22222222 0.        ]\n",
      "updating reaction bounds ...\n",
      "[0.33333333 0.        ]\n",
      "updating reaction bounds ...\n",
      "[0.44444444 0.        ]\n",
      "updating reaction bounds ...\n",
      "[0.55555556 0.        ]\n",
      "updating reaction bounds ...\n",
      "[0.66666667 0.        ]\n",
      "updating reaction bounds ...\n",
      "[0.77777778 0.        ]\n",
      "updating reaction bounds ...\n",
      "[0.88888889 0.        ]\n",
      "updating reaction bounds ...\n",
      "[1. 0.]\n",
      "updating reaction bounds ...\n",
      "[0.        0.0521238]\n",
      "updating reaction bounds ...\n",
      "unfeasible point\n",
      "[0.11111111 0.0521238 ]\n",
      "updating reaction bounds ...\n",
      "[0.22222222 0.0521238 ]\n",
      "updating reaction bounds ...\n",
      "[0.33333333 0.0521238 ]\n",
      "updating reaction bounds ...\n",
      "[0.44444444 0.0521238 ]\n",
      "updating reaction bounds ...\n",
      "[0.55555556 0.0521238 ]\n",
      "updating reaction bounds ...\n",
      "[0.66666667 0.0521238 ]\n",
      "updating reaction bounds ...\n",
      "[0.77777778 0.0521238 ]\n",
      "updating reaction bounds ...\n",
      "[0.88888889 0.0521238 ]\n",
      "updating reaction bounds ...\n",
      "[1.        0.0521238]\n",
      "updating reaction bounds ...\n",
      "unfeasible point\n",
      "[0.        0.1042476]\n",
      "updating reaction bounds ...\n",
      "unfeasible point\n",
      "[0.11111111 0.1042476 ]\n",
      "updating reaction bounds ...\n",
      "unfeasible point\n",
      "[0.22222222 0.1042476 ]\n",
      "updating reaction bounds ...\n",
      "[0.33333333 0.1042476 ]\n",
      "updating reaction bounds ...\n",
      "[0.44444444 0.1042476 ]\n",
      "updating reaction bounds ...\n",
      "[0.55555556 0.1042476 ]\n",
      "updating reaction bounds ...\n",
      "[0.66666667 0.1042476 ]\n",
      "updating reaction bounds ...\n",
      "[0.77777778 0.1042476 ]\n",
      "updating reaction bounds ...\n",
      "[0.88888889 0.1042476 ]\n",
      "updating reaction bounds ...\n",
      "unfeasible point\n",
      "[1.        0.1042476]\n",
      "updating reaction bounds ...\n",
      "unfeasible point\n",
      "[0.         0.15637141]\n",
      "updating reaction bounds ...\n",
      "unfeasible point\n",
      "[0.11111111 0.15637141]\n",
      "updating reaction bounds ...\n",
      "unfeasible point\n",
      "[0.22222222 0.15637141]\n",
      "updating reaction bounds ...\n",
      "unfeasible point\n",
      "[0.33333333 0.15637141]\n",
      "updating reaction bounds ...\n",
      "[0.44444444 0.15637141]\n",
      "updating reaction bounds ...\n",
      "[0.55555556 0.15637141]\n",
      "updating reaction bounds ...\n",
      "[0.66666667 0.15637141]\n",
      "updating reaction bounds ...\n",
      "[0.77777778 0.15637141]\n",
      "updating reaction bounds ...\n",
      "[0.88888889 0.15637141]\n",
      "updating reaction bounds ...\n",
      "unfeasible point\n",
      "[1.         0.15637141]\n",
      "updating reaction bounds ...\n",
      "unfeasible point\n",
      "[0.         0.20849521]\n",
      "updating reaction bounds ...\n",
      "unfeasible point\n",
      "[0.11111111 0.20849521]\n",
      "updating reaction bounds ...\n",
      "unfeasible point\n",
      "[0.22222222 0.20849521]\n",
      "updating reaction bounds ...\n",
      "unfeasible point\n",
      "[0.33333333 0.20849521]\n",
      "updating reaction bounds ...\n",
      "[0.44444444 0.20849521]\n",
      "updating reaction bounds ...\n",
      "[0.55555556 0.20849521]\n",
      "updating reaction bounds ...\n",
      "[0.66666667 0.20849521]\n",
      "updating reaction bounds ...\n",
      "[0.77777778 0.20849521]\n",
      "updating reaction bounds ...\n",
      "unfeasible point\n",
      "[0.88888889 0.20849521]\n",
      "updating reaction bounds ...\n",
      "unfeasible point\n",
      "[1.         0.20849521]\n",
      "updating reaction bounds ...\n",
      "unfeasible point\n",
      "[0.         0.26061901]\n",
      "updating reaction bounds ...\n",
      "unfeasible point\n",
      "[0.11111111 0.26061901]\n",
      "updating reaction bounds ...\n",
      "unfeasible point\n",
      "[0.22222222 0.26061901]\n",
      "updating reaction bounds ...\n",
      "unfeasible point\n",
      "[0.33333333 0.26061901]\n",
      "updating reaction bounds ...\n",
      "unfeasible point\n",
      "[0.44444444 0.26061901]\n",
      "updating reaction bounds ...\n",
      "[0.55555556 0.26061901]\n",
      "updating reaction bounds ...\n",
      "[0.66666667 0.26061901]\n",
      "updating reaction bounds ...\n",
      "[0.77777778 0.26061901]\n",
      "updating reaction bounds ...\n",
      "unfeasible point\n",
      "[0.88888889 0.26061901]\n",
      "updating reaction bounds ...\n",
      "unfeasible point\n",
      "[1.         0.26061901]\n",
      "updating reaction bounds ...\n",
      "unfeasible point\n",
      "[0.         0.31274281]\n",
      "updating reaction bounds ...\n",
      "unfeasible point\n",
      "[0.11111111 0.31274281]\n",
      "updating reaction bounds ...\n",
      "unfeasible point\n",
      "[0.22222222 0.31274281]\n",
      "updating reaction bounds ...\n",
      "unfeasible point\n",
      "[0.33333333 0.31274281]\n",
      "updating reaction bounds ...\n",
      "unfeasible point\n",
      "[0.44444444 0.31274281]\n",
      "updating reaction bounds ...\n",
      "[0.55555556 0.31274281]\n",
      "updating reaction bounds ...\n",
      "[0.66666667 0.31274281]\n",
      "updating reaction bounds ...\n",
      "unfeasible point\n",
      "[0.77777778 0.31274281]\n",
      "updating reaction bounds ...\n",
      "unfeasible point\n",
      "[0.88888889 0.31274281]\n",
      "updating reaction bounds ...\n",
      "unfeasible point\n",
      "[1.         0.31274281]\n",
      "updating reaction bounds ...\n",
      "unfeasible point\n",
      "[0.         0.36486661]\n",
      "updating reaction bounds ...\n",
      "unfeasible point\n",
      "[0.11111111 0.36486661]\n",
      "updating reaction bounds ...\n",
      "unfeasible point\n",
      "[0.22222222 0.36486661]\n",
      "updating reaction bounds ...\n",
      "unfeasible point\n",
      "[0.33333333 0.36486661]\n",
      "updating reaction bounds ...\n",
      "unfeasible point\n",
      "[0.44444444 0.36486661]\n",
      "updating reaction bounds ...\n",
      "unfeasible point\n",
      "[0.55555556 0.36486661]\n",
      "updating reaction bounds ...\n",
      "[0.66666667 0.36486661]\n",
      "updating reaction bounds ...\n",
      "unfeasible point\n",
      "[0.77777778 0.36486661]\n",
      "updating reaction bounds ...\n",
      "unfeasible point\n",
      "[0.88888889 0.36486661]\n",
      "updating reaction bounds ...\n",
      "unfeasible point\n",
      "[1.         0.36486661]\n",
      "updating reaction bounds ...\n",
      "unfeasible point\n",
      "[0.         0.41699042]\n",
      "updating reaction bounds ...\n",
      "unfeasible point\n",
      "[0.11111111 0.41699042]\n",
      "updating reaction bounds ...\n",
      "unfeasible point\n",
      "[0.22222222 0.41699042]\n",
      "updating reaction bounds ...\n",
      "unfeasible point\n",
      "[0.33333333 0.41699042]\n",
      "updating reaction bounds ...\n",
      "unfeasible point\n",
      "[0.44444444 0.41699042]\n",
      "updating reaction bounds ...\n",
      "unfeasible point\n",
      "[0.55555556 0.41699042]\n",
      "updating reaction bounds ...\n",
      "[0.66666667 0.41699042]\n",
      "updating reaction bounds ...\n",
      "unfeasible point\n",
      "[0.77777778 0.41699042]\n",
      "updating reaction bounds ...\n",
      "unfeasible point\n",
      "[0.88888889 0.41699042]\n",
      "updating reaction bounds ...\n",
      "unfeasible point\n",
      "[1.         0.41699042]\n",
      "updating reaction bounds ...\n",
      "unfeasible point\n",
      "[0.         0.46911422]\n",
      "updating reaction bounds ...\n",
      "unfeasible point\n",
      "[0.11111111 0.46911422]\n",
      "updating reaction bounds ...\n",
      "unfeasible point\n",
      "[0.22222222 0.46911422]\n",
      "updating reaction bounds ...\n",
      "unfeasible point\n",
      "[0.33333333 0.46911422]\n",
      "updating reaction bounds ...\n",
      "unfeasible point\n",
      "[0.44444444 0.46911422]\n",
      "updating reaction bounds ...\n",
      "unfeasible point\n",
      "[0.55555556 0.46911422]\n",
      "updating reaction bounds ...\n",
      "unfeasible point\n",
      "[0.66666667 0.46911422]\n",
      "updating reaction bounds ...\n",
      "unfeasible point\n",
      "[0.77777778 0.46911422]\n",
      "updating reaction bounds ...\n",
      "unfeasible point\n",
      "[0.88888889 0.46911422]\n",
      "updating reaction bounds ...\n",
      "unfeasible point\n",
      "[1.         0.46911422]\n",
      "updating reaction bounds ...\n",
      "unfeasible point\n",
      "grid feasible points: 39 / 99\n"
     ]
    }
   ],
   "source": [
    "eco2.analyze_grid()"
   ]
  },
  {
   "cell_type": "code",
   "execution_count": 60,
   "metadata": {
    "ExecuteTime": {
     "end_time": "2023-03-28T14:02:27.353968Z",
     "start_time": "2023-03-28T14:02:26.985923Z"
    }
   },
   "outputs": [
    {
     "data": {
      "image/png": "[encoded data removed]",
      "text/plain": [
       "<Figure size 792x864 with 2 Axes>"
      ]
     },
     "metadata": {
      "needs_background": "light"
     },
     "output_type": "display_data"
    }
   ],
   "source": [
    "eco2.plot_2D_slice(prefixes=[], fixed_values=[], parent_cmap='tab20',s=60, figsize=(11,12), \n",
    "                         to_plot = 'feasible', show_edge=False,frac_prefix= None,\n",
    "                            xlabel = '$f_{eco\\_lys}$',\n",
    "                            ylabel ='$\\mu_{com}[h^{-1}]$', saveFile = 'grid')#, fractions=[0.6,0.4],  )"
   ]
  },
  {
   "cell_type": "code",
   "execution_count": null,
   "metadata": {
    "ExecuteTime": {
     "end_time": "2023-05-03T19:48:22.292471Z",
     "start_time": "2023-05-03T19:48:22.292444Z"
    }
   },
   "outputs": [],
   "source": [
    "store_miniEco_inputs(eco2, '.', case,'eco2_2023')"
   ]
  },
  {
   "cell_type": "code",
   "execution_count": null,
   "metadata": {
    "ExecuteTime": {
     "end_time": "2023-05-03T19:48:22.296659Z",
     "start_time": "2023-05-03T19:48:22.296629Z"
    }
   },
   "outputs": [],
   "source": [
    "eco2.objectives"
   ]
  },
  {
   "cell_type": "code",
   "execution_count": null,
   "metadata": {
    "ExecuteTime": {
     "end_time": "2023-05-03T19:48:22.299048Z",
     "start_time": "2023-05-03T19:48:22.299019Z"
    }
   },
   "outputs": [],
   "source": [
    "case"
   ]
  },
  {
   "cell_type": "markdown",
   "metadata": {},
   "source": [
    "# Functional relationship analysis"
   ]
  },
  {
   "cell_type": "code",
   "execution_count": 30,
   "metadata": {
    "ExecuteTime": {
     "end_time": "2023-04-11T19:53:23.721017Z",
     "start_time": "2023-04-11T19:53:23.707908Z"
    }
   },
   "outputs": [],
   "source": [
    "def fraction_to_normalize(point_fractions, reaction):\n",
    "    #from point_fraction computes which element of this array should be used for normalization\n",
    "    #reaction: string reaction id\n",
    "    if reaction.startswith('org1_'):\n",
    "        fraction = point_fractions[0]\n",
    "    elif reaction.startswith('org2_'):\n",
    "        fraction = point_fractions[1]\n",
    "    else: \n",
    "        print('No org detected, asumming community reaction')\n",
    "        fraction =1\n",
    "        \n",
    "    return(fraction)\n",
    "    \n"
   ]
  },
  {
   "cell_type": "code",
   "execution_count": 35,
   "metadata": {
    "ExecuteTime": {
     "end_time": "2023-04-11T19:56:02.409100Z",
     "start_time": "2023-04-11T19:56:02.363559Z"
    }
   },
   "outputs": [
    {
     "name": "stdout",
     "output_type": "stream",
     "text": [
      "[0.2, 0.4]\n",
      "[[21.01896131 10.76973696]]\n",
      "1\n"
     ]
    },
    {
     "ename": "IndexError",
     "evalue": "index 1 is out of bounds for axis 0 with size 1",
     "output_type": "error",
     "traceback": [
      "\u001b[0;31m---------------------------------------------------------------------------\u001b[0m",
      "\u001b[0;31mIndexError\u001b[0m                                Traceback (most recent call last)",
      "Input \u001b[0;32mIn [35]\u001b[0m, in \u001b[0;36m<cell line: 5>\u001b[0;34m()\u001b[0m\n\u001b[1;32m     12\u001b[0m \u001b[38;5;28mprint\u001b[39m(min_index)\n\u001b[1;32m     13\u001b[0m analyze_points\u001b[38;5;241m.\u001b[39mappend(min_index)\n\u001b[0;32m---> 14\u001b[0m \u001b[38;5;28mprint\u001b[39m(\u001b[38;5;124mf\u001b[39m\u001b[38;5;124m\"\u001b[39m\u001b[38;5;124mthe closest point to \u001b[39m\u001b[38;5;132;01m{\u001b[39;00msearch_point\u001b[38;5;132;01m}\u001b[39;00m\u001b[38;5;124m is \u001b[39m\u001b[38;5;132;01m{\u001b[39;00mfeasible_points[min_index]\u001b[38;5;132;01m}\u001b[39;00m\u001b[38;5;124m, at a distance of \u001b[39m\u001b[38;5;132;01m{\u001b[39;00mdistances[min_index]\u001b[38;5;132;01m}\u001b[39;00m\u001b[38;5;124m\"\u001b[39m)\n",
      "\u001b[0;31mIndexError\u001b[0m: index 1 is out of bounds for axis 0 with size 1"
     ]
    }
   ],
   "source": [
    "grid_x = [0.2, 0.4, 0.6, 0.8]\n",
    "grid_y = reversed([0.1, 0.2, 0.4])\n",
    "feasible_points = eco2.points[eco2.feasible_points]\n",
    "analyze_points = []\n",
    "for y in grid_y:\n",
    "    for x in grid_x:\n",
    "        search_point = [x, y]\n",
    "        print(search_point)\n",
    "        distances = np.linalg.norm(feasible_points-search_point, axis=1)\n",
    "        print(distances)\n",
    "        min_index = np.argmin(distances)\n",
    "        print(min_index)\n",
    "        analyze_points.append(min_index)\n",
    "        print(f\"the closest point to {search_point} is {feasible_points[min_index]}, at a distance of {distances[min_index]}\")\n",
    "        \n",
    "        \n",
    "        \n",
    "        "
   ]
  },
  {
   "cell_type": "code",
   "execution_count": 37,
   "metadata": {
    "ExecuteTime": {
     "end_time": "2023-04-11T19:57:07.294727Z",
     "start_time": "2023-04-11T19:57:07.288796Z"
    }
   },
   "outputs": [],
   "source": [
    "eco2.feasible_points"
   ]
  },
  {
   "cell_type": "code",
   "execution_count": null,
   "metadata": {},
   "outputs": [],
   "source": [
    "import copy\n",
    "\n",
    "#select point (I'm going to do it relative to the clusters as before)\n",
    "#this_point = total_points[3] #relative to cluster\n",
    "rxns_analysis = ['eco_lys_EX_leu__L_e', 'eco_leu_EX_leu__L_e']\n",
    "print(rxns_analysis)\n",
    "\n",
    "\n",
    "maxmin_data = []\n",
    "for this_point in analyze_points:\n",
    "    model = copy.deepcopy(eco2)\n",
    "    feasible_points = model.points[model.feasible_points]\n",
    "    this_point_coords = feasible_points[this_point]\n",
    "    print('Selected point'+str(this_point_coords))\n",
    "    print('This point coords '+str(this_point_coords))\n",
    "    this_point_frac = [this_point_coords[0], 1-this_point_coords[0]]\n",
    "    print('This point frac '+str(this_point_frac))\n",
    "    point = [this_point_coords[0]*this_point_coords[1], (1-this_point_coords[0])*this_point_coords[1]] #equivalent to old grid\n",
    "    print('Old grid point '+str(point))\n",
    "\n",
    "    #update bounds\n",
    "    for i, member in enumerate(model.prefixes):\n",
    "        mfrac = this_point_frac[i]\n",
    "        mrxns = model.member_rxns[member]\n",
    "\n",
    "        for rid in mrxns:\n",
    "            r = model.cmodel.reactions.get_by_id(rid)\n",
    "            old_bounds = r.bounds\n",
    "            r.bounds = (old_bounds[0]*mfrac, old_bounds[1]*mfrac)\n",
    "\n",
    "    for ix, member_objectives in enumerate(model.objectives):\n",
    "        new_bounds = (point[ix], point[ix])\n",
    "\n",
    "        for rid in member_objectives.keys():\n",
    "            rxn = model.cmodel.reactions.get_by_id(rid)\n",
    "            rxn.bounds = new_bounds\n",
    "\n",
    "    try:\n",
    "        #define limits reactions based on theoretical max-min defined from model\n",
    "        rxn_ref_fva = flux_variability_analysis(model.cmodel, reaction_list = rxns_analysis[0])\n",
    "\n",
    "        #define range reactions\n",
    "        values_rxn_ref = np.linspace(rxn_ref_fva['minimum'][0], rxn_ref_fva['maximum'][0], num=50)\n",
    "        values_rmax = []\n",
    "        values_rmin = []\n",
    "\n",
    "        with model.cmodel as cmodel:\n",
    "            for val in values_rxn_ref:\n",
    "                rxn = cmodel.reactions.get_by_id(rxns_analysis[0])\n",
    "                rxn.bounds = (val,val)\n",
    "                #compute max min\n",
    "                fva = flux_variability_analysis(cmodel, reaction_list = rxns_analysis[1])\n",
    "                for i, el in enumerate(fva):\n",
    "                    row_dict = dict()\n",
    "                    row_dict[rxns_analysis[0]] = val/fraction_to_normalize(this_point_frac, rxns_analysis[0])\n",
    "                    row_dict[rxns_analysis[1]] = fva[el][0]/fraction_to_normalize(this_point_frac, rxns_analysis[1])\n",
    "                    row_dict['FVA'] = el\n",
    "                    row_dict['point'] = str([round(this_point_coords[0],3), round(this_point_coords[1],3)])\n",
    "                    maxmin_data.append(row_dict)\n",
    "                #store values \n",
    "                #values_rmax.append(fva['maximum'][0])\n",
    "                #values_rmin.append(fva['minimum'][0])\n",
    "\n",
    "    except:\n",
    "        print('\\n Issues with '+str(this_point_coords)+' unfeasible?')\n",
    "\n",
    "    #divide by f_i\n",
    "    #if rxns_analysis[1].startswith('wen'):\n",
    "    #    values_rmax = values_rmax/this_point_frac[0]\n",
    "    #    values_rmin = values_rmin/this_point_frac[0]\n",
    "    #    values_rxn_ref = values_rxn_ref/this_point_frac[0]\n",
    "    #elif rxns_analysis[1].startswith('cut'):\n",
    "    #    values_rxn_ref = values_rxn_ref/this_point_frac[1]\n",
    "    #    values_rmax = values_rmax/this_point_frac[1]\n",
    "    #    values_rmin = values_rmin/this_point_frac[1]\n",
    "\n",
    "\n"
   ]
  }
 ],
 "metadata": {
  "kernelspec": {
   "display_name": "Python 3 (ipykernel)",
   "language": "python",
   "name": "python3"
  },
  "language_info": {
   "codemirror_mode": {
    "name": "ipython",
    "version": 3
   },
   "file_extension": ".py",
   "mimetype": "text/x-python",
   "name": "python",
   "nbconvert_exporter": "python",
   "pygments_lexer": "ipython3",
   "version": "3.8.13"
  },
  "toc": {
   "base_numbering": 1,
   "nav_menu": {},
   "number_sections": true,
   "sideBar": true,
   "skip_h1_title": false,
   "title_cell": "Table of Contents",
   "title_sidebar": "Contents",
   "toc_cell": false,
   "toc_position": {},
   "toc_section_display": true,
   "toc_window_display": false
  }
 },
 "nbformat": 4,
 "nbformat_minor": 4
}
